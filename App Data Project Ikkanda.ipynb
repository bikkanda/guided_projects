{
 "cells": [
  {
   "cell_type": "markdown",
   "id": "45fda9bf",
   "metadata": {},
   "source": [
    "# App Data Project Ikkanda"
   ]
  },
  {
   "cell_type": "markdown",
   "id": "4a8b9f02",
   "metadata": {},
   "source": [
    "*I will be analyzing data collected from two different stores.  The goal of the project is to be able to understand what apps will be the most attractive to users and make recommendations according to the data.*"
   ]
  },
  {
   "cell_type": "code",
   "execution_count": 1,
   "id": "9ae53a02",
   "metadata": {},
   "outputs": [],
   "source": [
    "opened_file = open('googleplaystore.csv', encoding=\"utf8\")\n",
    "from csv import reader\n",
    "read_file = reader(opened_file)\n",
    "android = list(read_file)\n",
    "android_header = android[0]\n",
    "android = android[1:]"
   ]
  },
  {
   "cell_type": "code",
   "execution_count": 2,
   "id": "47199621",
   "metadata": {},
   "outputs": [],
   "source": [
    "opened_file = open('AppleStore.csv', encoding=\"utf8\")\n",
    "from csv import reader\n",
    "read_file = reader(opened_file)\n",
    "ios = list(read_file)\n",
    "ios_header = ios[0]\n",
    "ios = ios[1:]"
   ]
  },
  {
   "cell_type": "code",
   "execution_count": 3,
   "id": "6df53a6c",
   "metadata": {},
   "outputs": [],
   "source": [
    "def explore_data(dataset, start, end, rows_and_columns=False):\n",
    "    dataset_slice = dataset[start:end]    \n",
    "    for row in dataset_slice:\n",
    "        print(row)\n",
    "        print('\\n')\n",
    "\n",
    "    if rows_and_columns:\n",
    "        print('Number of rows:', len(dataset))\n",
    "        print('Number of columns:', len(dataset[0]))"
   ]
  },
  {
   "cell_type": "code",
   "execution_count": 4,
   "id": "971a0082",
   "metadata": {},
   "outputs": [
    {
     "name": "stdout",
     "output_type": "stream",
     "text": [
      "['App', 'Category', 'Rating', 'Reviews', 'Size', 'Installs', 'Type', 'Price', 'Content Rating', 'Genres', 'Last Updated', 'Current Ver', 'Android Ver']\n",
      "\n",
      "\n",
      "['Photo Editor & Candy Camera & Grid & ScrapBook', 'ART_AND_DESIGN', '4.1', '159', '19M', '10,000+', 'Free', '0', 'Everyone', 'Art & Design', '7-Jan-18', '1.0.0', '4.0.3 and up']\n",
      "\n",
      "\n",
      "['Coloring book moana', 'ART_AND_DESIGN', '3.9', '967', '14M', '500,000+', 'Free', '0', 'Everyone', 'Art & Design;Pretend Play', '15-Jan-18', '2.0.0', '4.0.3 and up']\n",
      "\n",
      "\n",
      "['U Launcher Lite – FREE Live Cool Themes, Hide Apps', 'ART_AND_DESIGN', '4.7', '87510', '8.7M', '5,000,000+', 'Free', '0', 'Everyone', 'Art & Design', '1-Aug-18', '1.2.4', '4.0.3 and up']\n",
      "\n",
      "\n",
      "Number of rows: 10841\n",
      "Number of columns: 13\n"
     ]
    }
   ],
   "source": [
    "print(android_header)\n",
    "print('\\n')\n",
    "explore_data(android,0,3,True)"
   ]
  },
  {
   "cell_type": "markdown",
   "id": "84b708db",
   "metadata": {},
   "source": [
    "*The Google Play dataset has 10,841 apps and 13 fields.  Initial viewing seems to show that* ```'App'```, ```'Rating'```, ```'Category'```, ```'Reviews'```, ```'Installs'```, ```'Type'```, ```'Price'```, *and* ```'Genres'```.\n",
    "\n",
    "## iOS Data"
   ]
  },
  {
   "cell_type": "code",
   "execution_count": 5,
   "id": "2a6e1867",
   "metadata": {},
   "outputs": [
    {
     "name": "stdout",
     "output_type": "stream",
     "text": [
      "['id', 'track_name', 'size_bytes', 'currency', 'price', 'rating_count_tot', 'rating_count_ver', 'user_rating', 'user_rating_ver', 'ver', 'cont_rating', 'prime_genre', 'sup_devices.num', 'ipadSc_urls.num', 'lang.num', 'vpp_lic']\n",
      "\n",
      "\n",
      "['284882215', 'Facebook', '389879808', 'USD', '0.0', '2974676', '212', '3.5', '3.5', '95.0', '4+', 'Social Networking', '37', '1', '29', '1']\n",
      "\n",
      "\n",
      "['389801252', 'Instagram', '113954816', 'USD', '0.0', '2161558', '1289', '4.5', '4.0', '10.23', '12+', 'Photo & Video', '37', '0', '29', '1']\n",
      "\n",
      "\n",
      "['529479190', 'Clash of Clans', '116476928', 'USD', '0.0', '2130805', '579', '4.5', '4.5', '9.24.12', '9+', 'Games', '38', '5', '18', '1']\n",
      "\n",
      "\n",
      "Number of rows: 7197\n",
      "Number of columns: 16\n"
     ]
    }
   ],
   "source": [
    "print(ios_header)\n",
    "print('\\n')\n",
    "explore_data(ios,0,3,True)"
   ]
  },
  {
   "cell_type": "markdown",
   "id": "25162f57",
   "metadata": {},
   "source": [
    "*The App Store dataset has 7,197 apps and 16 fields.  Initial viewing seems to show that* ```'track_name'```, ```'price'```, ```'rating_count_tot'```, ```'rating_count_ver'```, ```'user_rating'```, *and* ```'prime_genre'```.  To get more information about the dataset, you can take a look at the additional [documentation](https://www.kaggle.com/datasets/ramamet4/app-store-apple-data-set-10k-apps) for the dataset."
   ]
  },
  {
   "cell_type": "markdown",
   "id": "fb6ff1e5",
   "metadata": {},
   "source": [
    "# Data Cleaning"
   ]
  },
  {
   "cell_type": "markdown",
   "id": "d67282e7",
   "metadata": {},
   "source": [
    "Before working with the data, the data must be cleaned up by taking out data with errors, removing duplicates, or removing data that is not part of our desires parameters."
   ]
  },
  {
   "cell_type": "markdown",
   "id": "9fbac5ad",
   "metadata": {},
   "source": [
    "## Cleaning Part 1: Column Shift"
   ]
  },
  {
   "cell_type": "markdown",
   "id": "68441f4c",
   "metadata": {},
   "source": [
    "One of the errors in the dataset is a row that is missing the ```'Category'``` field and therefore ther is a column shift.  This row will be deleted."
   ]
  },
  {
   "cell_type": "code",
   "execution_count": 6,
   "id": "68be5114",
   "metadata": {
    "scrolled": true
   },
   "outputs": [
    {
     "name": "stdout",
     "output_type": "stream",
     "text": [
      "['App', 'Category', 'Rating', 'Reviews', 'Size', 'Installs', 'Type', 'Price', 'Content Rating', 'Genres', 'Last Updated', 'Current Ver', 'Android Ver']\n"
     ]
    }
   ],
   "source": [
    "print(android_header)"
   ]
  },
  {
   "cell_type": "code",
   "execution_count": 7,
   "id": "3f82b43c",
   "metadata": {
    "scrolled": true
   },
   "outputs": [
    {
     "name": "stdout",
     "output_type": "stream",
     "text": [
      "['Life Made WI-Fi Touchscreen Photo Frame', '1.9', '19', '3.0M', '1,000+', 'Free', '0', 'Everyone', '', '11-Feb-18', '1.0.19', '4.0 and up', '']\n"
     ]
    }
   ],
   "source": [
    "print(android[10472])"
   ]
  },
  {
   "cell_type": "code",
   "execution_count": 8,
   "id": "887aafa0",
   "metadata": {},
   "outputs": [],
   "source": [
    "del android[10472]"
   ]
  },
  {
   "cell_type": "code",
   "execution_count": 9,
   "id": "35724b5f",
   "metadata": {},
   "outputs": [
    {
     "name": "stdout",
     "output_type": "stream",
     "text": [
      "['osmino Wi-Fi: free WiFi', 'TOOLS', '4.2', '134203', '4.1M', '10,000,000+', 'Free', '0', 'Everyone', 'Tools', '7-Aug-18', '6.06.14', '4.4 and up']\n"
     ]
    }
   ],
   "source": [
    "print(android[10472])"
   ]
  },
  {
   "cell_type": "markdown",
   "id": "300589d4",
   "metadata": {},
   "source": [
    "## Cleaning Part 2: Duplicates"
   ]
  },
  {
   "cell_type": "markdown",
   "id": "6aa637e2",
   "metadata": {},
   "source": [
    "### Identifying duplicates in data\n",
    "One way to see if there are duplicate entries is by creating a list of unique apps.  Then you can compare its length with the entire list."
   ]
  },
  {
   "cell_type": "code",
   "execution_count": 10,
   "id": "dc95c19f",
   "metadata": {},
   "outputs": [],
   "source": [
    "android_duplicate_apps = []\n",
    "android_unique_apps = []\n",
    "\n",
    "for app in android:\n",
    "    app_name = app[0]\n",
    "    if app_name not in android_unique_apps:\n",
    "        android_unique_apps.append(app_name)\n",
    "    else:\n",
    "        android_duplicate_apps.append(app_name)"
   ]
  },
  {
   "cell_type": "code",
   "execution_count": 11,
   "id": "f72a5135",
   "metadata": {
    "scrolled": true
   },
   "outputs": [
    {
     "name": "stdout",
     "output_type": "stream",
     "text": [
      "Number of unique android apps: 9659\n",
      "Total number of android apps: 10840\n",
      "Number of duplicate android apps: 1181\n"
     ]
    }
   ],
   "source": [
    "print('Number of unique android apps: ' + str(len(android_unique_apps)))\n",
    "print('Total number of android apps: ' + str(len(android)))\n",
    "print('Number of duplicate android apps: ' + str(len(android) - len(android_unique_apps)))"
   ]
  },
  {
   "cell_type": "code",
   "execution_count": 12,
   "id": "4307b27c",
   "metadata": {},
   "outputs": [
    {
     "name": "stdout",
     "output_type": "stream",
     "text": [
      "['Quick PDF Scanner + OCR FREE', 'Box', 'Google My Business', 'ZOOM Cloud Meetings', 'join.me - Simple Meetings', 'Box', 'Zenefits', 'Google Ads', 'Google My Business', 'Slack']\n"
     ]
    }
   ],
   "source": [
    "print(android_duplicate_apps[:10])"
   ]
  },
  {
   "cell_type": "code",
   "execution_count": 13,
   "id": "155019a0",
   "metadata": {},
   "outputs": [],
   "source": [
    "ios_unique_apps = []\n",
    "ios_duplicate_apps = []\n",
    "\n",
    "for app in ios:\n",
    "    app_name = app[1]\n",
    "    if app_name not in ios_unique_apps:\n",
    "        ios_unique_apps.append(app_name)\n",
    "    else:\n",
    "        ios_duplicate_apps.append(app_name)"
   ]
  },
  {
   "cell_type": "code",
   "execution_count": 14,
   "id": "4e625868",
   "metadata": {},
   "outputs": [
    {
     "name": "stdout",
     "output_type": "stream",
     "text": [
      "Number of unique iOS apps: 7195\n",
      "Total number of iOS apps: 7197\n",
      "Number of duplicate iOS apps: 2\n"
     ]
    }
   ],
   "source": [
    "print('Number of unique iOS apps: ' + str(len(ios_unique_apps)))\n",
    "print('Total number of iOS apps: ' + str(len(ios)))\n",
    "print('Number of duplicate iOS apps: ' + str(len(ios) - len(ios_unique_apps)))"
   ]
  },
  {
   "cell_type": "code",
   "execution_count": 15,
   "id": "bdf7a1c5",
   "metadata": {},
   "outputs": [
    {
     "name": "stdout",
     "output_type": "stream",
     "text": [
      "['Mannequin Challenge', 'VR Roller Coaster']\n"
     ]
    }
   ],
   "source": [
    "print(ios_duplicate_apps)"
   ]
  },
  {
   "cell_type": "markdown",
   "id": "fe06353c",
   "metadata": {},
   "source": [
    "A quick glance at the duplicate apps will enable us to figure out how to approach deleting the data."
   ]
  },
  {
   "cell_type": "code",
   "execution_count": 16,
   "id": "f4b41843",
   "metadata": {},
   "outputs": [
    {
     "name": "stdout",
     "output_type": "stream",
     "text": [
      "['Quick PDF Scanner + OCR FREE', 'BUSINESS', '4.2', '80805', 'Varies with device', '5,000,000+', 'Free', '0', 'Everyone', 'Business', '26-Feb-18', 'Varies with device', '4.0.3 and up']\n",
      "['Quick PDF Scanner + OCR FREE', 'BUSINESS', '4.2', '80805', 'Varies with device', '5,000,000+', 'Free', '0', 'Everyone', 'Business', '26-Feb-18', 'Varies with device', '4.0.3 and up']\n",
      "['Quick PDF Scanner + OCR FREE', 'BUSINESS', '4.2', '80804', 'Varies with device', '5,000,000+', 'Free', '0', 'Everyone', 'Business', '26-Feb-18', 'Varies with device', '4.0.3 and up']\n"
     ]
    }
   ],
   "source": [
    "for app in android:\n",
    "    name = app[0]\n",
    "    if name == 'Quick PDF Scanner + OCR FREE':\n",
    "        print(app)"
   ]
  },
  {
   "cell_type": "markdown",
   "id": "b04e205c",
   "metadata": {},
   "source": [
    "Once can notice that the differences happen at the 4th field which is the number of reviews.  So it would make sense to keep the data point that has the most amount of reviews and deleting all the others (rather than deleting data points at random)"
   ]
  },
  {
   "cell_type": "markdown",
   "id": "3051ec60",
   "metadata": {},
   "source": [
    "### Deleting duplicates based on specific criteria"
   ]
  },
  {
   "cell_type": "markdown",
   "id": "32d5d120",
   "metadata": {},
   "source": [
    "First we will determine the length of the data set once we have deleted the duplicates as a way to verify that we deleted just the duplicates."
   ]
  },
  {
   "cell_type": "code",
   "execution_count": 17,
   "id": "05aa150f",
   "metadata": {},
   "outputs": [
    {
     "name": "stdout",
     "output_type": "stream",
     "text": [
      "Length of dataset after deleting duplicates:  9659\n"
     ]
    }
   ],
   "source": [
    "print('Length of dataset after deleting duplicates: ', len(android) - 1181)"
   ]
  },
  {
   "cell_type": "markdown",
   "id": "773ca558",
   "metadata": {},
   "source": [
    "To delete the specific data we will\n",
    "1.  create a dictionary where the key is a unique app name and the corresponding dictionary value is the highest number of reviews for that app.\n",
    "2.  create a new dataset from the dictionary information where we will only select the entry with the highest number of reviews."
   ]
  },
  {
   "cell_type": "code",
   "execution_count": 18,
   "id": "c2eba004",
   "metadata": {},
   "outputs": [],
   "source": [
    "reviews_max = {}\n",
    "\n",
    "for app in android:\n",
    "    name = app[0]\n",
    "    n_reviews = float(app[3])\n",
    "    \n",
    "    if name in reviews_max and reviews_max[name] < n_reviews:\n",
    "        reviews_max[name] = n_reviews\n",
    "    elif name not in reviews_max:\n",
    "        reviews_max[name] = n_reviews\n",
    "        "
   ]
  },
  {
   "cell_type": "code",
   "execution_count": 19,
   "id": "fae2e4a2",
   "metadata": {},
   "outputs": [
    {
     "name": "stdout",
     "output_type": "stream",
     "text": [
      "134203.0\n"
     ]
    }
   ],
   "source": [
    "print(reviews_max['osmino Wi-Fi: free WiFi'])"
   ]
  },
  {
   "cell_type": "code",
   "execution_count": 20,
   "id": "5a4f8a03",
   "metadata": {},
   "outputs": [
    {
     "name": "stdout",
     "output_type": "stream",
     "text": [
      "Actual length of dataset after deleting duplicates:  9659\n"
     ]
    }
   ],
   "source": [
    "print('Actual length of dataset after deleting duplicates: ',len(reviews_max))"
   ]
  },
  {
   "cell_type": "markdown",
   "id": "9e3a6947",
   "metadata": {},
   "source": [
    "Now that we have the dictionary with the right amount of entries, we will create a new dataset with just the unique entries and remove the duplicates that have less number of reviews."
   ]
  },
  {
   "cell_type": "code",
   "execution_count": 21,
   "id": "42b24ba8",
   "metadata": {},
   "outputs": [],
   "source": [
    "android_clean = []\n",
    "already_added = []\n",
    "\n",
    "for app in android:\n",
    "    name = app[0]\n",
    "    n_reviews = float(app[3])\n",
    "    \n",
    "    if (reviews_max[name] == n_reviews) and (name not in already_added):\n",
    "        android_clean.append(app)\n",
    "        already_added.append(name)\n",
    "    "
   ]
  },
  {
   "cell_type": "markdown",
   "id": "f01b7a7e",
   "metadata": {},
   "source": [
    "Just to double check, I'm going to explore the new cleaned up dataset."
   ]
  },
  {
   "cell_type": "code",
   "execution_count": 22,
   "id": "4ffc4627",
   "metadata": {},
   "outputs": [
    {
     "name": "stdout",
     "output_type": "stream",
     "text": [
      "['Photo Editor & Candy Camera & Grid & ScrapBook', 'ART_AND_DESIGN', '4.1', '159', '19M', '10,000+', 'Free', '0', 'Everyone', 'Art & Design', '7-Jan-18', '1.0.0', '4.0.3 and up']\n",
      "\n",
      "\n",
      "['U Launcher Lite – FREE Live Cool Themes, Hide Apps', 'ART_AND_DESIGN', '4.7', '87510', '8.7M', '5,000,000+', 'Free', '0', 'Everyone', 'Art & Design', '1-Aug-18', '1.2.4', '4.0.3 and up']\n",
      "\n",
      "\n",
      "['Sketch - Draw & Paint', 'ART_AND_DESIGN', '4.5', '215644', '25M', '50,000,000+', 'Free', '0', 'Teen', 'Art & Design', '8-Jun-18', 'Varies with device', '4.2 and up']\n",
      "\n",
      "\n",
      "Number of rows: 9659\n",
      "Number of columns: 13\n"
     ]
    }
   ],
   "source": [
    "explore_data(android_clean,0,3,True)"
   ]
  },
  {
   "cell_type": "markdown",
   "id": "9423db13",
   "metadata": {},
   "source": [
    "Great! We have the expected amount of rows."
   ]
  },
  {
   "cell_type": "markdown",
   "id": "df1996a3",
   "metadata": {},
   "source": [
    "Now for the apple store dataset to remove duplicates.  We need to determine the index numbers to individually delete the two duplicate entries."
   ]
  },
  {
   "cell_type": "code",
   "execution_count": 23,
   "id": "396007d5",
   "metadata": {},
   "outputs": [
    {
     "name": "stdout",
     "output_type": "stream",
     "text": [
      "2949 ['1173990889', 'Mannequin Challenge', '109705216', 'USD', '0.0', '668', '87', '3.0', '3.0', '1.4', '9+', 'Games', '37', '4', '1', '1']\n",
      "4443 ['952877179', 'VR Roller Coaster', '169523200', 'USD', '0.0', '107', '102', '3.5', '3.5', '2.0.0', '4+', 'Games', '37', '5', '1', '1']\n",
      "4464 ['1178454060', 'Mannequin Challenge', '59572224', 'USD', '0.0', '105', '58', '4.0', '4.5', '1.0.1', '4+', 'Games', '38', '5', '1', '1']\n",
      "4832 ['1089824278', 'VR Roller Coaster', '240964608', 'USD', '0.0', '67', '44', '3.5', '4.0', '0.81', '4+', 'Games', '38', '0', '1', '1']\n"
     ]
    }
   ],
   "source": [
    "count = 0\n",
    "for app in ios:\n",
    "    count += 1\n",
    "    name = app[1]\n",
    "    tot_rating = app[2]\n",
    "    if name == 'Mannequin Challenge' or name == 'VR Roller Coaster':\n",
    "        print(count,app)"
   ]
  },
  {
   "cell_type": "code",
   "execution_count": 24,
   "id": "6eafa6f8",
   "metadata": {},
   "outputs": [
    {
     "name": "stdout",
     "output_type": "stream",
     "text": [
      "[['1080345135', 'Heavy Metal Tennis Training', '64642048', 'USD', '0.0', '107', '12', '3.0', '4.0', '1.2.2', '9+', 'Games', '40', '5', '1', '1'], ['952877179', 'VR Roller Coaster', '169523200', 'USD', '0.0', '107', '102', '3.5', '3.5', '2.0.0', '4+', 'Games', '37', '5', '1', '1'], ['353573707', 'Coaster VR, Extreme Endless 3D Stereograph', '30977024', 'USD', '0.99', '107', '0', '2.5', '0.0', '1.1.5', '4+', 'Entertainment', '37', '5', '1', '1']]\n"
     ]
    }
   ],
   "source": [
    "print(ios[4441:4444])"
   ]
  },
  {
   "cell_type": "code",
   "execution_count": 25,
   "id": "2de89111",
   "metadata": {},
   "outputs": [
    {
     "name": "stdout",
     "output_type": "stream",
     "text": [
      "[['1080345135', 'Heavy Metal Tennis Training', '64642048', 'USD', '0.0', '107', '12', '3.0', '4.0', '1.2.2', '9+', 'Games', '40', '5', '1', '1'], ['353573707', 'Coaster VR, Extreme Endless 3D Stereograph', '30977024', 'USD', '0.99', '107', '0', '2.5', '0.0', '1.1.5', '4+', 'Entertainment', '37', '5', '1', '1'], ['1148053146', 'Osteya: Adventures', '65756160', 'USD', '0.0', '107', '5', '3.5', '5.0', '2.0.2', '9+', 'Games', '37', '5', '1', '1']]\n"
     ]
    }
   ],
   "source": [
    "del ios[4442]\n",
    "print(ios[4441:4444])"
   ]
  },
  {
   "cell_type": "code",
   "execution_count": 26,
   "id": "3ee279e5",
   "metadata": {},
   "outputs": [
    {
     "name": "stdout",
     "output_type": "stream",
     "text": [
      "[['625411864', 'Sproggiwood', '438601728', 'USD', '4.99', '105', '37', '4.5', '4.5', '1.2.10', '12+', 'Games', '40', '5', '1', '1'], ['1178454060', 'Mannequin Challenge', '59572224', 'USD', '0.0', '105', '58', '4.0', '4.5', '1.0.1', '4+', 'Games', '38', '5', '1', '1'], ['1041406978', 'DOFUS Touch', '3366912', 'USD', '0.0', '104', '3', '4.0', '4.0', '1.9.28', '12+', 'Games', '37', '5', '6', '1']]\n"
     ]
    }
   ],
   "source": [
    "print(ios[4461:4464])"
   ]
  },
  {
   "cell_type": "code",
   "execution_count": 27,
   "id": "6c431ad9",
   "metadata": {},
   "outputs": [
    {
     "name": "stdout",
     "output_type": "stream",
     "text": [
      "[['625411864', 'Sproggiwood', '438601728', 'USD', '4.99', '105', '37', '4.5', '4.5', '1.2.10', '12+', 'Games', '40', '5', '1', '1'], ['1041406978', 'DOFUS Touch', '3366912', 'USD', '0.0', '104', '3', '4.0', '4.0', '1.9.28', '12+', 'Games', '37', '5', '6', '1'], ['1095681176', \"Ninja Dude vs Zombies - endless tap 'n' slash zombie arcade game\", '83969024', 'USD', '0.0', '104', '17', '4.0', '4.0', '1.2.1', '12+', 'Games', '38', '5', '10', '1']]\n"
     ]
    }
   ],
   "source": [
    "del ios[4462]\n",
    "print(ios[4461:4464])"
   ]
  },
  {
   "cell_type": "markdown",
   "id": "21ff722c",
   "metadata": {},
   "source": [
    "## Cleaning Part 3: Removing non-English entries"
   ]
  },
  {
   "cell_type": "markdown",
   "id": "9dc3bb1c",
   "metadata": {},
   "source": [
    "Some of the entries have titles in different languages (examples below), so we will identify and remove those entries by first identifying rows that do not have common english characters."
   ]
  },
  {
   "cell_type": "code",
   "execution_count": 28,
   "id": "91a9c9d9",
   "metadata": {},
   "outputs": [
    {
     "name": "stdout",
     "output_type": "stream",
     "text": [
      "['445375097', '爱奇艺PPS -《欢乐颂2》电视剧热播', '224617472', 'USD', '0.0', '14844', '0', '4.0', '0.0', '6.3.3', '17+', 'Entertainment', '38', '5', '3', '1']\n",
      "\n",
      "\n",
      "['中国語 AQリスニング', 'FAMILY', 'NaN', '21', '17M', '5,000+', 'Free', '0', 'Everyone', 'Education', '22-Jun-16', '2.4.0', '4.0 and up']\n"
     ]
    }
   ],
   "source": [
    "print(ios[813])\n",
    "print('\\n')\n",
    "print(android_clean[4412])"
   ]
  },
  {
   "cell_type": "markdown",
   "id": "e2894e62",
   "metadata": {},
   "source": [
    "### Step 1: Identifying entries with non-English characters"
   ]
  },
  {
   "cell_type": "code",
   "execution_count": 29,
   "id": "8d7f916a",
   "metadata": {},
   "outputs": [
    {
     "name": "stdout",
     "output_type": "stream",
     "text": [
      "True\n"
     ]
    }
   ],
   "source": [
    "def eng_char(string):\n",
    "    for character in string:\n",
    "        if ord(character) > 127:\n",
    "            return False\n",
    "\n",
    "    return True\n",
    "\n",
    "print(eng_char('Instagram'))\n",
    "    "
   ]
  },
  {
   "cell_type": "code",
   "execution_count": 30,
   "id": "52e2a5ba",
   "metadata": {},
   "outputs": [
    {
     "name": "stdout",
     "output_type": "stream",
     "text": [
      "True\n",
      "False\n"
     ]
    }
   ],
   "source": [
    "print(eng_char('Instagram'))\n",
    "print(eng_char('爱奇艺PPS -《欢乐颂2》电视剧热播'))"
   ]
  },
  {
   "cell_type": "code",
   "execution_count": 31,
   "id": "333d8fbe",
   "metadata": {},
   "outputs": [
    {
     "name": "stdout",
     "output_type": "stream",
     "text": [
      "False\n",
      "False\n",
      "8482\n",
      "128540\n"
     ]
    }
   ],
   "source": [
    "print(eng_char('Docs To Go™ Free Office Suite'))\n",
    "print(eng_char('Instachat 😜'))\n",
    "\n",
    "print(ord('™'))\n",
    "print(ord('😜'))"
   ]
  },
  {
   "cell_type": "markdown",
   "id": "ff6accd2",
   "metadata": {},
   "source": [
    "### Step 2: Keeping entries that are english but include non-ASCII characters."
   ]
  },
  {
   "cell_type": "markdown",
   "id": "52964822",
   "metadata": {},
   "source": [
    "We will try to sort out mostly English titles by keeping entries that have no more than three ASCII characters that are above 127."
   ]
  },
  {
   "cell_type": "code",
   "execution_count": 32,
   "id": "8d18db22",
   "metadata": {},
   "outputs": [
    {
     "name": "stdout",
     "output_type": "stream",
     "text": [
      "True\n",
      "True\n"
     ]
    }
   ],
   "source": [
    "def eng_char(string):\n",
    "    non_ascii = 0\n",
    "    \n",
    "    for character in string:\n",
    "        if ord(character) > 127:\n",
    "            non_ascii += 1\n",
    "    \n",
    "    if non_ascii > 3:\n",
    "        return False\n",
    "    else:\n",
    "        return True\n",
    "\n",
    "print(eng_char('Docs To Go™ Free Office Suite'))\n",
    "print(eng_char('Instachat 😜'))"
   ]
  },
  {
   "cell_type": "code",
   "execution_count": 33,
   "id": "527ec8fa",
   "metadata": {},
   "outputs": [
    {
     "name": "stdout",
     "output_type": "stream",
     "text": [
      "['Photo Editor & Candy Camera & Grid & ScrapBook', 'ART_AND_DESIGN', '4.1', '159', '19M', '10,000+', 'Free', '0', 'Everyone', 'Art & Design', '7-Jan-18', '1.0.0', '4.0.3 and up']\n",
      "\n",
      "\n",
      "['U Launcher Lite – FREE Live Cool Themes, Hide Apps', 'ART_AND_DESIGN', '4.7', '87510', '8.7M', '5,000,000+', 'Free', '0', 'Everyone', 'Art & Design', '1-Aug-18', '1.2.4', '4.0.3 and up']\n",
      "\n",
      "\n",
      "['Sketch - Draw & Paint', 'ART_AND_DESIGN', '4.5', '215644', '25M', '50,000,000+', 'Free', '0', 'Teen', 'Art & Design', '8-Jun-18', 'Varies with device', '4.2 and up']\n",
      "\n",
      "\n",
      "Number of rows: 9614\n",
      "Number of columns: 13\n",
      "\n",
      "\n",
      "['284882215', 'Facebook', '389879808', 'USD', '0.0', '2974676', '212', '3.5', '3.5', '95.0', '4+', 'Social Networking', '37', '1', '29', '1']\n",
      "\n",
      "\n",
      "['389801252', 'Instagram', '113954816', 'USD', '0.0', '2161558', '1289', '4.5', '4.0', '10.23', '12+', 'Photo & Video', '37', '0', '29', '1']\n",
      "\n",
      "\n",
      "['529479190', 'Clash of Clans', '116476928', 'USD', '0.0', '2130805', '579', '4.5', '4.5', '9.24.12', '9+', 'Games', '38', '5', '18', '1']\n",
      "\n",
      "\n",
      "Number of rows: 6181\n",
      "Number of columns: 16\n"
     ]
    }
   ],
   "source": [
    "android_english = []\n",
    "ios_english = []\n",
    "\n",
    "for app in android_clean:\n",
    "    name = app[0]\n",
    "    if eng_char(name):\n",
    "        android_english.append(app)\n",
    "\n",
    "for app in ios:\n",
    "    name = app[1]\n",
    "    if eng_char(name):\n",
    "        ios_english.append(app)\n",
    "        \n",
    "explore_data(android_english, 0,3,True)\n",
    "print('\\n')\n",
    "explore_data(ios_english, 0,3,True)"
   ]
  },
  {
   "cell_type": "markdown",
   "id": "927dc7c2",
   "metadata": {},
   "source": [
    "We see that we are now left with 9614 Android apps and 6181 iOS apps."
   ]
  },
  {
   "cell_type": "markdown",
   "id": "977f1dfe",
   "metadata": {},
   "source": [
    "## Cleaning Part 4: Isolating Free apps"
   ]
  },
  {
   "cell_type": "code",
   "execution_count": 34,
   "id": "67eab1b0",
   "metadata": {},
   "outputs": [
    {
     "name": "stdout",
     "output_type": "stream",
     "text": [
      "8864\n",
      "3220\n"
     ]
    }
   ],
   "source": [
    "android_final = []\n",
    "ios_final = []\n",
    "\n",
    "for app in android_english:\n",
    "    price = app[7]\n",
    "    if price == '0':\n",
    "        android_final.append(app)\n",
    "        \n",
    "for app in ios_english:\n",
    "    price = app[4]\n",
    "    if price == '0.0':\n",
    "        ios_final.append(app)\n",
    "\n",
    "print(len(android_final))\n",
    "print(len(ios_final))"
   ]
  },
  {
   "cell_type": "markdown",
   "id": "903bb19a",
   "metadata": {},
   "source": [
    "We are now left with datasets that have 8864 Andoird apps and 3220 iOS apps, which is enough for our analysis."
   ]
  },
  {
   "cell_type": "markdown",
   "id": "71802cc6",
   "metadata": {},
   "source": [
    "# Analysis: Most Popular Apps by Genre\n",
    "Now that we have cleaned up data sets, we want to analyze the data sets to determine which apps are likely to attract more users."
   ]
  },
  {
   "cell_type": "markdown",
   "id": "e6217820",
   "metadata": {},
   "source": [
    "## Rationale\n",
    "The general validation strategy for an app idea moves in three steps:\n",
    "1.  Start off with a minimal Android version of the app that is then added to Google Play store.\n",
    "2.  If the app has attracted a significant number of users, the app will be developed further.\n",
    "3.  After 6 months, if the app is profitable, then an iOS version of the app will be built and added to the App Store.\n",
    "\n",
    "Recognizing that a successful app will be one that is popular in Google Play and the App Store, we will try to identify characteristics of apps that fit that criteria.  So first, we will look at the genres of games that are popular on each market.\n",
    "\n",
    "To begin, we will analyze the data with this in mind as we explore the genres for each market.  In the App Store data set, we will explore the ```prime_genre``` column and in the Google Play data set, we will explore the ```Genres``` and ```Category``` columns."
   ]
  },
  {
   "cell_type": "markdown",
   "id": "2c106675",
   "metadata": {},
   "source": [
    "## Building functions for analysis\n",
    "\n",
    "Two functions are built so that we can easily create frequency tables.\n",
    "- Frequency table generating function that shows percentages\n",
    "- Displaying percentages in descending order"
   ]
  },
  {
   "cell_type": "code",
   "execution_count": 35,
   "id": "42f94b07",
   "metadata": {},
   "outputs": [],
   "source": [
    "def freq_table(dataset, index):\n",
    "    table = {}\n",
    "    total = 0\n",
    "    \n",
    "    for row in dataset:\n",
    "        total += 1\n",
    "        value = row[index]\n",
    "        if value in table:\n",
    "            table[value] += 1\n",
    "        else:\n",
    "            table[value] = 1\n",
    "            \n",
    "    table_percentages = {}\n",
    "    for key in table:\n",
    "        percentage = (table[key] / total) *100\n",
    "        table_percentages[key] = percentage\n",
    "        \n",
    "    return table_percentages"
   ]
  },
  {
   "cell_type": "code",
   "execution_count": 36,
   "id": "2cd65c6c",
   "metadata": {},
   "outputs": [],
   "source": [
    "def display_table(dataset, index):\n",
    "    table = freq_table(dataset, index)\n",
    "    table_display = []\n",
    "    for key in table:\n",
    "        key_val_as_tuple = (table[key], key)\n",
    "        table_display.append(key_val_as_tuple)\n",
    "\n",
    "    table_sorted = sorted(table_display, reverse = True)\n",
    "    for entry in table_sorted:\n",
    "        print(entry[1], ':', round(entry[0],2),'%')"
   ]
  },
  {
   "cell_type": "markdown",
   "id": "78c1a379",
   "metadata": {},
   "source": [
    "## Creating a frequency table for iOS\n",
    "Examining the frequency table for the ```prime_genre``` column of the App Store data set."
   ]
  },
  {
   "cell_type": "code",
   "execution_count": 37,
   "id": "ea7ad59f",
   "metadata": {
    "scrolled": true
   },
   "outputs": [
    {
     "name": "stdout",
     "output_type": "stream",
     "text": [
      "Games : 58.14 %\n",
      "Entertainment : 7.89 %\n",
      "Photo & Video : 4.97 %\n",
      "Education : 3.66 %\n",
      "Social Networking : 3.29 %\n",
      "Shopping : 2.61 %\n",
      "Utilities : 2.52 %\n",
      "Sports : 2.14 %\n",
      "Music : 2.05 %\n",
      "Health & Fitness : 2.02 %\n",
      "Productivity : 1.74 %\n",
      "Lifestyle : 1.58 %\n",
      "News : 1.34 %\n",
      "Travel : 1.24 %\n",
      "Finance : 1.12 %\n",
      "Weather : 0.87 %\n",
      "Food & Drink : 0.81 %\n",
      "Reference : 0.56 %\n",
      "Business : 0.53 %\n",
      "Book : 0.43 %\n",
      "Navigation : 0.19 %\n",
      "Medical : 0.19 %\n",
      "Catalogs : 0.12 %\n"
     ]
    }
   ],
   "source": [
    "display_table(ios_final,11)"
   ]
  },
  {
   "cell_type": "markdown",
   "id": "821785ee",
   "metadata": {},
   "source": [
    "Observing the list of genres, we see that games dominate the genres by far with 58.14% while the genre with the next most amount of apps is Entertainment with 7.90%.  Additionally, the least amount of apps are found in specific fields like 'Business' or 'Medical' and other apps made for reference or reading like 'Reference', 'Book', 'Navigation' and 'Catalogs' which may not have that many variations on the apps in general."
   ]
  },
  {
   "cell_type": "markdown",
   "id": "fb3372dd",
   "metadata": {},
   "source": [
    "## Creating a frequency table for Android using the category and genre fields"
   ]
  },
  {
   "cell_type": "code",
   "execution_count": 38,
   "id": "6d3ce36e",
   "metadata": {},
   "outputs": [
    {
     "name": "stdout",
     "output_type": "stream",
     "text": [
      "FAMILY : 18.91 %\n",
      "GAME : 9.72 %\n",
      "TOOLS : 8.46 %\n",
      "BUSINESS : 4.59 %\n",
      "LIFESTYLE : 3.9 %\n",
      "PRODUCTIVITY : 3.89 %\n",
      "FINANCE : 3.7 %\n",
      "MEDICAL : 3.53 %\n",
      "SPORTS : 3.4 %\n",
      "PERSONALIZATION : 3.32 %\n",
      "COMMUNICATION : 3.24 %\n",
      "HEALTH_AND_FITNESS : 3.08 %\n",
      "PHOTOGRAPHY : 2.94 %\n",
      "NEWS_AND_MAGAZINES : 2.8 %\n",
      "SOCIAL : 2.66 %\n",
      "TRAVEL_AND_LOCAL : 2.34 %\n",
      "SHOPPING : 2.25 %\n",
      "BOOKS_AND_REFERENCE : 2.14 %\n",
      "DATING : 1.86 %\n",
      "VIDEO_PLAYERS : 1.79 %\n",
      "MAPS_AND_NAVIGATION : 1.4 %\n",
      "FOOD_AND_DRINK : 1.24 %\n",
      "EDUCATION : 1.16 %\n",
      "ENTERTAINMENT : 0.96 %\n",
      "LIBRARIES_AND_DEMO : 0.94 %\n",
      "AUTO_AND_VEHICLES : 0.93 %\n",
      "HOUSE_AND_HOME : 0.82 %\n",
      "WEATHER : 0.8 %\n",
      "EVENTS : 0.71 %\n",
      "PARENTING : 0.65 %\n",
      "ART_AND_DESIGN : 0.64 %\n",
      "COMICS : 0.62 %\n",
      "BEAUTY : 0.6 %\n"
     ]
    }
   ],
   "source": [
    "display_table(android_final,1)"
   ]
  },
  {
   "cell_type": "markdown",
   "id": "5d5827cf",
   "metadata": {},
   "source": [
    "Taking a look at this data, the family category has the most apps at 18.91%, while games is next at 9.72%.  The category list seems to be more broad than the genres list.  But games does seem to be consistently common relative to the other categories."
   ]
  },
  {
   "cell_type": "code",
   "execution_count": 39,
   "id": "1a820c14",
   "metadata": {},
   "outputs": [
    {
     "name": "stdout",
     "output_type": "stream",
     "text": [
      "Tools : 8.45 %\n",
      "Entertainment : 6.07 %\n",
      "Education : 5.35 %\n",
      "Business : 4.59 %\n",
      "Productivity : 3.89 %\n",
      "Lifestyle : 3.89 %\n",
      "Finance : 3.7 %\n",
      "Medical : 3.53 %\n",
      "Sports : 3.46 %\n",
      "Personalization : 3.32 %\n",
      "Communication : 3.24 %\n",
      "Action : 3.1 %\n",
      "Health & Fitness : 3.08 %\n",
      "Photography : 2.94 %\n",
      "News & Magazines : 2.8 %\n",
      "Social : 2.66 %\n",
      "Travel & Local : 2.32 %\n",
      "Shopping : 2.25 %\n",
      "Books & Reference : 2.14 %\n",
      "Simulation : 2.04 %\n",
      "Dating : 1.86 %\n",
      "Arcade : 1.85 %\n",
      "Video Players & Editors : 1.77 %\n",
      "Casual : 1.76 %\n",
      "Maps & Navigation : 1.4 %\n",
      "Food & Drink : 1.24 %\n",
      "Puzzle : 1.13 %\n",
      "Racing : 0.99 %\n",
      "Role Playing : 0.94 %\n",
      "Libraries & Demo : 0.94 %\n",
      "Auto & Vehicles : 0.93 %\n",
      "Strategy : 0.91 %\n",
      "House & Home : 0.82 %\n",
      "Weather : 0.8 %\n",
      "Events : 0.71 %\n",
      "Adventure : 0.68 %\n",
      "Comics : 0.61 %\n",
      "Beauty : 0.6 %\n",
      "Art & Design : 0.6 %\n",
      "Parenting : 0.5 %\n",
      "Card : 0.45 %\n",
      "Casino : 0.43 %\n",
      "Trivia : 0.42 %\n",
      "Educational;Education : 0.39 %\n",
      "Board : 0.38 %\n",
      "Educational : 0.37 %\n",
      "Education;Education : 0.34 %\n",
      "Word : 0.26 %\n",
      "Casual;Pretend Play : 0.24 %\n",
      "Music : 0.2 %\n",
      "Racing;Action & Adventure : 0.17 %\n",
      "Puzzle;Brain Games : 0.17 %\n",
      "Entertainment;Music & Video : 0.17 %\n",
      "Casual;Brain Games : 0.14 %\n",
      "Casual;Action & Adventure : 0.14 %\n",
      "Arcade;Action & Adventure : 0.12 %\n",
      "Action;Action & Adventure : 0.1 %\n",
      "Educational;Pretend Play : 0.09 %\n",
      "Simulation;Action & Adventure : 0.08 %\n",
      "Parenting;Education : 0.08 %\n",
      "Entertainment;Brain Games : 0.08 %\n",
      "Board;Brain Games : 0.08 %\n",
      "Parenting;Music & Video : 0.07 %\n",
      "Educational;Brain Games : 0.07 %\n",
      "Casual;Creativity : 0.07 %\n",
      "Art & Design;Creativity : 0.07 %\n",
      "Education;Pretend Play : 0.06 %\n",
      "Role Playing;Pretend Play : 0.05 %\n",
      "Education;Creativity : 0.05 %\n",
      "Role Playing;Action & Adventure : 0.03 %\n",
      "Puzzle;Action & Adventure : 0.03 %\n",
      "Entertainment;Creativity : 0.03 %\n",
      "Entertainment;Action & Adventure : 0.03 %\n",
      "Educational;Creativity : 0.03 %\n",
      "Educational;Action & Adventure : 0.03 %\n",
      "Education;Music & Video : 0.03 %\n",
      "Education;Brain Games : 0.03 %\n",
      "Education;Action & Adventure : 0.03 %\n",
      "Adventure;Action & Adventure : 0.03 %\n",
      "Video Players & Editors;Music & Video : 0.02 %\n",
      "Sports;Action & Adventure : 0.02 %\n",
      "Simulation;Pretend Play : 0.02 %\n",
      "Puzzle;Creativity : 0.02 %\n",
      "Music;Music & Video : 0.02 %\n",
      "Entertainment;Pretend Play : 0.02 %\n",
      "Casual;Education : 0.02 %\n",
      "Board;Action & Adventure : 0.02 %\n",
      "Video Players & Editors;Creativity : 0.01 %\n",
      "Trivia;Education : 0.01 %\n",
      "Travel & Local;Action & Adventure : 0.01 %\n",
      "Tools;Education : 0.01 %\n",
      "Strategy;Education : 0.01 %\n",
      "Strategy;Creativity : 0.01 %\n",
      "Strategy;Action & Adventure : 0.01 %\n",
      "Simulation;Education : 0.01 %\n",
      "Role Playing;Brain Games : 0.01 %\n",
      "Racing;Pretend Play : 0.01 %\n",
      "Puzzle;Education : 0.01 %\n",
      "Parenting;Brain Games : 0.01 %\n",
      "Music & Audio;Music & Video : 0.01 %\n",
      "Lifestyle;Pretend Play : 0.01 %\n",
      "Lifestyle;Education : 0.01 %\n",
      "Health & Fitness;Education : 0.01 %\n",
      "Health & Fitness;Action & Adventure : 0.01 %\n",
      "Entertainment;Education : 0.01 %\n",
      "Communication;Creativity : 0.01 %\n",
      "Comics;Creativity : 0.01 %\n",
      "Casual;Music & Video : 0.01 %\n",
      "Card;Action & Adventure : 0.01 %\n",
      "Books & Reference;Education : 0.01 %\n",
      "Art & Design;Pretend Play : 0.01 %\n",
      "Art & Design;Action & Adventure : 0.01 %\n",
      "Arcade;Pretend Play : 0.01 %\n",
      "Adventure;Education : 0.01 %\n"
     ]
    }
   ],
   "source": [
    "display_table(android_final,9)"
   ]
  },
  {
   "cell_type": "markdown",
   "id": "945fc4a0",
   "metadata": {},
   "source": [
    "Observing the Genres field, it seems that 'Tools' has the most apps at 8.45% while 'Entertainment' has the next highest at 6.07% of the total apps.  However, the genres on the Google Play store seems to be more even when it comes to the variety of genres (whether about entertainment/games or practical/educational).\n",
    "\n",
    "So overall, even still there is a good amount of apps created for games and entertainment, but whether those actually attract the most amount of users, we'll need to analyze the data more.  Additionally, these data sets are constrained to free applications that are made for English speaking groups so we must keep that in mind when making conclusions."
   ]
  },
  {
   "cell_type": "markdown",
   "id": "afb4dc6b",
   "metadata": {},
   "source": [
    "## Analysis on Number of Reviews/Installs of Each App"
   ]
  },
  {
   "cell_type": "markdown",
   "id": "eb32c4e2",
   "metadata": {},
   "source": [
    "One can assess to a certain extent, the popularity of an app, by analyzing the number of installs for that app.  So for Google Play, we will analyze the ```Installs``` column, but since that information is not in the App Store data set, we will use the ```rating_count_tot``` as a substitute measure for the popularity of the app."
   ]
  },
  {
   "cell_type": "code",
   "execution_count": 40,
   "id": "903a2e95",
   "metadata": {},
   "outputs": [],
   "source": [
    "genres_ios = freq_table(ios_final,11)"
   ]
  },
  {
   "cell_type": "code",
   "execution_count": 41,
   "id": "7914a58f",
   "metadata": {},
   "outputs": [
    {
     "name": "stdout",
     "output_type": "stream",
     "text": [
      "Social Networking : 71548\n",
      "Photo & Video : 28442\n",
      "Games : 22813\n",
      "Music : 57327\n",
      "Reference : 74942\n",
      "Health & Fitness : 23298\n",
      "Weather : 52280\n",
      "Utilities : 18684\n",
      "Travel : 28244\n",
      "Shopping : 26920\n",
      "News : 21248\n",
      "Navigation : 86090\n",
      "Lifestyle : 16486\n",
      "Entertainment : 14030\n",
      "Food & Drink : 33334\n",
      "Sports : 23009\n",
      "Book : 39758\n",
      "Finance : 31468\n",
      "Education : 7004\n",
      "Productivity : 21028\n",
      "Business : 7491\n",
      "Catalogs : 4004\n",
      "Medical : 612\n"
     ]
    }
   ],
   "source": [
    "for genre in genres_ios:\n",
    "    total = 0\n",
    "    len_genre = 0\n",
    "    for app in ios_final:\n",
    "        genre_app = app[11]\n",
    "        if genre_app == genre:\n",
    "            n_ratings = float(app[5])\n",
    "            total += n_ratings\n",
    "            len_genre += 1\n",
    "    avg_n_ratings = total / len_genre\n",
    "    print(genre, ':', round(avg_n_ratings))"
   ]
  },
  {
   "cell_type": "markdown",
   "id": "19da8a77",
   "metadata": {},
   "source": [
    "According to the average number of ratings for the App Store by genre, the apps with the top number of ratings are the Navigation apps (86,090 ratings) and reference apps (74,942 ratings).  The games and entertainment apps did not have as many ratings."
   ]
  },
  {
   "cell_type": "code",
   "execution_count": 42,
   "id": "35e7b454",
   "metadata": {},
   "outputs": [
    {
     "name": "stdout",
     "output_type": "stream",
     "text": [
      "Waze - GPS Navigation, Maps & Real-time Traffic : 345046\n",
      "Google Maps - Navigation & Transit : 154911\n",
      "Geocaching® : 12811\n",
      "CoPilot GPS – Car Navigation & Offline Maps : 3582\n",
      "ImmobilienScout24: Real Estate Search in Germany : 187\n",
      "Railway Route Search : 5\n"
     ]
    }
   ],
   "source": [
    "for app in ios_final:\n",
    "    if app[11] == 'Navigation':\n",
    "        print(app[1],':', app[5])"
   ]
  },
  {
   "cell_type": "markdown",
   "id": "f27237e0",
   "metadata": {},
   "source": [
    "It looks like the number of ratings are much more heavily seen in the Waze and Google Maps apps which gives the navigation apps a much higher rating count.  However this is a very narrow market to enter into because there does not seem to be as much variety within the apps in this category.  Therefore, it may be difficult to create a popular app within this field."
   ]
  },
  {
   "cell_type": "code",
   "execution_count": 43,
   "id": "0a1a856e",
   "metadata": {
    "scrolled": false
   },
   "outputs": [
    {
     "name": "stdout",
     "output_type": "stream",
     "text": [
      "Bible : 985920\n",
      "Dictionary.com Dictionary & Thesaurus : 200047\n",
      "Dictionary.com Dictionary & Thesaurus for iPad : 54175\n",
      "Google Translate : 26786\n",
      "Muslim Pro: Ramadan 2017 Prayer Times, Azan, Quran : 18418\n",
      "New Furniture Mods - Pocket Wiki & Game Tools for Minecraft PC Edition : 17588\n",
      "Merriam-Webster Dictionary : 16849\n",
      "Night Sky : 12122\n",
      "City Maps for Minecraft PE - The Best Maps for Minecraft Pocket Edition (MCPE) : 8535\n",
      "LUCKY BLOCK MOD ™ for Minecraft PC Edition - The Best Pocket Wiki & Mods Installer Tools : 4693\n",
      "GUNS MODS for Minecraft PC Edition - Mods Tools : 1497\n",
      "Guides for Pokémon GO - Pokemon GO News and Cheats : 826\n",
      "WWDC : 762\n",
      "Horror Maps for Minecraft PE - Download The Scariest Maps for Minecraft Pocket Edition (MCPE) Free : 718\n",
      "VPN Express : 14\n",
      "Real Bike Traffic Rider Virtual Reality Glasses : 8\n",
      "教えて!goo : 0\n",
      "Jishokun-Japanese English Dictionary & Translator : 0\n"
     ]
    }
   ],
   "source": [
    "for app in ios_final:\n",
    "    if app[11] == 'Reference':\n",
    "        print(app[1],':', app[5])"
   ]
  },
  {
   "cell_type": "markdown",
   "id": "32308eff",
   "metadata": {},
   "source": [
    "Within the reference genre, there seems to be more variety of different apps, but again, there are a few apps that seem to have a very large number of reviews while many others do not so it is difficult to say if we can break into this market.\n",
    "\n",
    "Let's take a look at just a different genre in general to get a feel for the distribution of reviews.  For example, education."
   ]
  },
  {
   "cell_type": "code",
   "execution_count": 44,
   "id": "e108c29f",
   "metadata": {},
   "outputs": [
    {
     "name": "stdout",
     "output_type": "stream",
     "text": [
      "Duolingo - Learn Spanish, French and more : 162701\n",
      "Guess My Age  Math Magic : 123190\n",
      "Lumosity - Brain Training : 96534\n",
      "Elevate - Brain Training and Games : 58092\n",
      "Fit Brains Trainer : 46363\n",
      "ClassDojo : 35440\n",
      "Memrise: learn languages : 20383\n",
      "Peak - Brain Training : 20322\n",
      "Canvas by Instructure : 19981\n",
      "ABCmouse.com - Early Learning Academy : 18749\n",
      "Quizlet: Study Flashcards, Languages & Vocabulary : 16683\n",
      "Photomath - Camera Calculator : 16523\n",
      "iTunes U : 15801\n",
      "Blackboard Mobile Learn™ : 13567\n",
      "Star Chart : 13482\n",
      "Remind: Fast, Efficient School Messaging : 9796\n",
      "PBS KIDS Video : 8651\n",
      "Toca Kitchen Monsters : 8062\n",
      "Toca Hair Salon - Christmas Gift : 8049\n",
      "Edmodo : 7197\n",
      "Prodigy Math Game : 6683\n",
      "Epic! - Unlimited Books for Kids : 6676\n",
      "ChineseSkill -Learn Mandarin Chinese Language Free : 6077\n",
      "Google Classroom : 5942\n",
      "TED : 5782\n",
      "Khan Academy: you can learn anything : 5459\n",
      "Got It - Homework Help Math, Chem, Physics Solver : 4903\n",
      "PowerSchool Mobile : 4547\n",
      "SkyView® Free - Explore the Universe : 4188\n",
      "Hopscotch : 4057\n",
      "IXL - Math and English : 3546\n",
      "Simply Piano by JoyTunes - Learn & play piano : 2925\n",
      "Kids A-Z : 2887\n",
      "Infinite Campus Mobile Portal : 2286\n",
      "PlayKids - Educational Cartoons and Games for Kids : 2196\n",
      "Memorado Brain Training for Memory & Mindfulness : 2067\n",
      "Bookshelf : 2064\n",
      "Mathway - Math Problem Solver : 1854\n",
      "Schoology : 1777\n",
      "HelloTalk Language Exchange Learning App : 1619\n",
      "SpellingCity : 1566\n",
      "Nick Jr. : 1541\n",
      "Babbel – Learn Languages Spanish, French & more : 1533\n",
      "Yup - Homework Help with Math & Science Tutors : 1424\n",
      "Mondly: Learn 33 Languages: Spanish English French : 1395\n",
      "WWF Together : 1385\n",
      "Tinycards - Learn with Fun, Free Flashcards : 1131\n",
      "Nearpod : 1057\n",
      "Starfall FREE : 1019\n",
      "Reflex Student : 1010\n",
      "GoldieBlox and the Movie Machine : 1000\n",
      "Pearson eText : 981\n",
      "codeSpark Academy with The Foos - coding for kids : 977\n",
      "Dr. Panda Restaurant Asia : 853\n",
      "NOGGIN - Preschool Shows & Educational Kids Videos : 782\n",
      "Tynker - Learn to Code. Programming Made Easy. : 771\n",
      "BrainHQ - Brain Training : 684\n",
      "Top Hat Lecture : 668\n",
      "Pearson eText for Schools : 609\n",
      "Curious World: Games, Videos, Books for Children : 604\n",
      "McGraw-Hill K-12 ConnectED Mobile : 594\n",
      "Socrative Student : 581\n",
      "Swift Playgrounds : 578\n",
      "MarcoPolo Ocean : 529\n",
      "TestNav : 491\n",
      "Starfall Learn to Read : 474\n",
      "Speakaboos Reading App: Stories & Songs for Kids : 440\n",
      "Bloxels: Build, Play & Share Your Own Video Games : 382\n",
      "GoNoodle Kids : 372\n",
      "Global Shark Tracker : 336\n",
      "The Robot Factory by Tinybop : 335\n",
      "Daniel Tiger’s Day & Night : 314\n",
      "Kahoot! Play Fun Learning Games : 300\n",
      "Spanish SOLO: Learn Spanish With Lessons On The Go : 275\n",
      "Math 42 : 248\n",
      "Star Walk 2 Ads+ Night Sky Map - Stars and Planets : 161\n",
      "Toca Dance Free : 149\n",
      "Endless Learning Academy : 143\n",
      "270toWin : 141\n",
      "Win the White House : 123\n",
      "Sago Mini Babies Dress Up : 115\n",
      "Nancy Drew Codes and Clues Mystery Coding Game : 110\n",
      "1600 : 110\n",
      "BEAKER by THIX : 94\n",
      "Highlights™ Shapes - Preschool Learning Puzzles : 90\n",
      "Little Panda's Candy Shop - Lollipop Factory : 84\n",
      "Mathpix - Solve and graph math using pictures : 83\n",
      "Blue Apprentice Elementary Science Game by Galxyz : 79\n",
      "PINKFONG Birthday Party : 70\n",
      "Hopster: Kids TV, Nursery Rhymes, Music, Fun Games : 58\n",
      "Sago Mini Holiday Trucks and Diggers : 56\n",
      "Dr. Panda Toy Cars Free : 51\n",
      "Virry Educational. Play, learn with real animals : 50\n",
      "Highlights Monster Day : 49\n",
      "PlayKids Learn - Learning through play : 49\n",
      "PBS KIDS ScratchJr : 38\n",
      "Lemon Lumberjack's Letter Mill : 34\n",
      "Ready Jet Go! Space Explorer : 34\n",
      "Chinese Recipes - Asian cuisine : 32\n",
      "Nature Cat's Great Outdoors : 31\n",
      "Show My Homework : 17\n",
      "PINKFONG 123 Numbers : 17\n",
      "Aquarium VR : 12\n",
      "Little Panda Mini Games-3D : 9\n",
      "Stylish School Timetable : 7\n",
      "Merry Christmas -Activities : 7\n",
      "Mastering the piano with Lang Lang : 6\n",
      "Baby Panda's Carnival : 6\n",
      "Driving test 2017 : 5\n",
      "Cutie Patootie - Xmas Surprise : 5\n",
      "Free IQ Test: Calculate your IQ : 5\n",
      "Beautiful Japanese Handwriting for iPhone : 0\n",
      "GhostCallDX : 0\n",
      "Baby Learns Transportation : 0\n",
      "Baby Panda's Bath Time : 0\n",
      "Beautiful Japanese Handwriting : 0\n",
      "Spring Festival by BabyBus : 0\n",
      "Dinosaur Planet : 0\n"
     ]
    }
   ],
   "source": [
    "for app in ios_final:\n",
    "    if app[11] == 'Education':\n",
    "        print(app[1],':', app[5])"
   ]
  },
  {
   "cell_type": "markdown",
   "id": "5acd2f4c",
   "metadata": {},
   "source": [
    "The education genre looks like there is a more evenly distributed number of reviews for a variety of apps so possibly this may be an arena to enter into while not having to compete against a few giants in the field.  However, these conlcusions are based on number of reviews and not the number of installs nor whether the reviews are good or bad.  So we will take a look at the Google Play data which has more information to help us make some clearer conclusions."
   ]
  },
  {
   "cell_type": "markdown",
   "id": "c54ec708",
   "metadata": {},
   "source": [
    "## Google Play data\n",
    "\n",
    "We will explore some of the google play data based on number of installs."
   ]
  },
  {
   "cell_type": "code",
   "execution_count": 45,
   "id": "fbe2d5e0",
   "metadata": {},
   "outputs": [
    {
     "name": "stdout",
     "output_type": "stream",
     "text": [
      "1,000,000+ : 15.73 %\n",
      "100,000+ : 11.55 %\n",
      "10,000,000+ : 10.55 %\n",
      "10,000+ : 10.2 %\n",
      "1,000+ : 8.39 %\n",
      "100+ : 6.92 %\n",
      "5,000,000+ : 6.83 %\n",
      "500,000+ : 5.56 %\n",
      "50,000+ : 4.77 %\n",
      "5,000+ : 4.51 %\n",
      "10+ : 3.54 %\n",
      "500+ : 3.25 %\n",
      "50,000,000+ : 2.3 %\n",
      "100,000,000+ : 2.13 %\n",
      "50+ : 1.92 %\n",
      "5+ : 0.79 %\n",
      "1+ : 0.51 %\n",
      "500,000,000+ : 0.27 %\n",
      "1,000,000,000+ : 0.23 %\n",
      "0+ : 0.05 %\n",
      "0 : 0.01 %\n"
     ]
    }
   ],
   "source": [
    "display_table(android_final,5)"
   ]
  },
  {
   "cell_type": "markdown",
   "id": "993daf70",
   "metadata": {},
   "source": [
    "Because the number of installs are in ranges and not specific numbers, we are going to simplify the number ranges to just the numbers themselves.  For example, instead of 5+ installs, we are just going to say 5 installs so we can do calculations."
   ]
  },
  {
   "cell_type": "code",
   "execution_count": 46,
   "id": "f4c93145",
   "metadata": {},
   "outputs": [
    {
     "name": "stdout",
     "output_type": "stream",
     "text": [
      "ART_AND_DESIGN : 1986335\n",
      "AUTO_AND_VEHICLES : 647318\n",
      "BEAUTY : 513152\n",
      "BOOKS_AND_REFERENCE : 8767812\n",
      "BUSINESS : 1712290\n",
      "COMICS : 817657\n",
      "COMMUNICATION : 38456119\n",
      "DATING : 854029\n",
      "EDUCATION : 1833495\n",
      "ENTERTAINMENT : 11640706\n",
      "EVENTS : 253542\n",
      "FINANCE : 1387692\n",
      "FOOD_AND_DRINK : 1924898\n",
      "HEALTH_AND_FITNESS : 4188822\n",
      "HOUSE_AND_HOME : 1331541\n",
      "LIBRARIES_AND_DEMO : 638504\n",
      "LIFESTYLE : 1437816\n",
      "GAME : 15588016\n",
      "FAMILY : 3695642\n",
      "MEDICAL : 120551\n",
      "SOCIAL : 23253652\n",
      "SHOPPING : 7036877\n",
      "PHOTOGRAPHY : 17840110\n",
      "SPORTS : 3638640\n",
      "TRAVEL_AND_LOCAL : 13984078\n",
      "TOOLS : 10801391\n",
      "PERSONALIZATION : 5201483\n",
      "PRODUCTIVITY : 16787331\n",
      "PARENTING : 542604\n",
      "WEATHER : 5074486\n",
      "VIDEO_PLAYERS : 24727872\n",
      "NEWS_AND_MAGAZINES : 9549178\n",
      "MAPS_AND_NAVIGATION : 4056942\n"
     ]
    }
   ],
   "source": [
    "categories_android = freq_table(android_final,1)\n",
    "\n",
    "for category in categories_android:\n",
    "    total = 0\n",
    "    len_category = 0\n",
    "    for app in android_final:\n",
    "        category_app = app[1]\n",
    "        if category_app == category:\n",
    "            n_install = app[5]\n",
    "            n_install = n_install.replace(',','')\n",
    "            n_install = n_install.replace('+','')\n",
    "            total += float(n_install)\n",
    "            len_category += 1\n",
    "    avg_installs_per_category = total / len_category\n",
    "    print(category, ':', round(avg_installs_per_category))"
   ]
  },
  {
   "cell_type": "markdown",
   "id": "8f35531d",
   "metadata": {},
   "source": [
    "Looking at these averages, COMMUNICATION apps have the most amount of installs at 38,456,119 installs on average while SOCIAL, VIDEO PLAYERS and PRODUCTIVITY also have a high number of installs.  Peering into the data further we want to see which apps have the most installs."
   ]
  },
  {
   "cell_type": "code",
   "execution_count": 47,
   "id": "44f66fc1",
   "metadata": {},
   "outputs": [
    {
     "name": "stdout",
     "output_type": "stream",
     "text": [
      "WhatsApp Messenger : 1000000000.0\n",
      "Skype - free IM & video calls : 1000000000.0\n",
      "Messenger – Text and Video Chat for Free : 1000000000.0\n",
      "Hangouts : 1000000000.0\n",
      "Google Chrome: Fast & Secure : 1000000000.0\n",
      "Gmail : 1000000000.0\n",
      "imo free video calls and chat : 500000000.0\n",
      "Viber Messenger : 500000000.0\n",
      "UC Browser - Fast Download Private & Secure : 500000000.0\n",
      "LINE: Free Calls & Messages : 500000000.0\n",
      "Google Duo - High Quality Video Calls : 500000000.0\n",
      "imo beta free calls and text : 100000000.0\n",
      "Yahoo Mail – Stay Organized : 100000000.0\n",
      "Who : 100000000.0\n",
      "WeChat : 100000000.0\n",
      "UC Browser Mini -Tiny Fast Private & Secure : 100000000.0\n",
      "Truecaller: Caller ID, SMS spam blocking & Dialer : 100000000.0\n",
      "Telegram : 100000000.0\n",
      "Opera Mini - fast web browser : 100000000.0\n",
      "Opera Browser: Fast and Secure : 100000000.0\n",
      "Messenger Lite: Free Calls & Messages : 100000000.0\n",
      "Kik : 100000000.0\n",
      "KakaoTalk: Free Calls & Text : 100000000.0\n",
      "GO SMS Pro - Messenger, Free Themes, Emoji : 100000000.0\n",
      "Firefox Browser fast & private : 100000000.0\n",
      "BBM - Free Calls & Messages : 100000000.0\n",
      "Android Messages : 100000000.0\n",
      "free video calls and chat : 50000000.0\n",
      "Zalo – Video Call : 50000000.0\n",
      "Mail.Ru - Email App : 50000000.0\n",
      "Dolphin Browser - Fast, Private & Adblock🐬 : 50000000.0\n",
      "Contacts : 50000000.0\n",
      "CM Browser - Ad Blocker , Fast Download , Privacy : 50000000.0\n",
      "Azar : 50000000.0\n",
      "myMail – Email for Hotmail, Gmail and Outlook Mail : 10000000.0\n",
      "chomp SMS : 10000000.0\n",
      "ZenUI Dialer & Contacts : 10000000.0\n",
      "Xperia Link™ : 10000000.0\n",
      "Whoscall - Caller ID & Block : 10000000.0\n",
      "WhatsCall Free Global Phone Call App & Cheap Calls : 10000000.0\n",
      "WhatsApp Business : 10000000.0\n",
      "WEB.DE Mail : 10000000.0\n",
      "Voxer Walkie Talkie Messenger : 10000000.0\n",
      "TouchPal Keyboard - Fun Emoji & Android Keyboard : 10000000.0\n",
      "Text SMS : 10000000.0\n",
      "Talkray - Free Calls & Texts : 10000000.0\n",
      "Talkatone: Free Texts, Calls & Phone Number : 10000000.0\n",
      "Puffin Web Browser : 10000000.0\n",
      "Psiphon Pro - The Internet Freedom VPN : 10000000.0\n",
      "Portable Wi-Fi hotspot : 10000000.0\n",
      "Orfox: Tor Browser for Android : 10000000.0\n",
      "Opera Mini browser beta : 10000000.0\n",
      "Omlet Chat : 10000000.0\n",
      "Mr. Number-Block calls & spam : 10000000.0\n",
      "Messenger for SMS : 10000000.0\n",
      "MegaFon Dashboard : 10000000.0\n",
      "ICQ — Video Calls & Chat Messenger : 10000000.0\n",
      "Hiya - Caller ID & Block : 10000000.0\n",
      "Hangouts Dialer - Call Phones : 10000000.0\n",
      "GroupMe : 10000000.0\n",
      "Google Voice : 10000000.0\n",
      "Google Allo : 10000000.0\n",
      "Glide - Video Chat Messenger : 10000000.0\n",
      "GO Notifier : 10000000.0\n",
      "GMX Mail : 10000000.0\n",
      "Free WiFi Connect : 10000000.0\n",
      "Free Adblocker Browser - Adblock & Popup Blocker : 10000000.0\n",
      "ExDialer - Dialer & Contacts : 10000000.0\n",
      "Discord - Chat for Gamers : 10000000.0\n",
      "DU Browser—Browse fast & fun : 10000000.0\n",
      "Cricket Visual Voicemail : 10000000.0\n",
      "Contacts+ : 10000000.0\n",
      "Calls Blacklist - Call Blocker : 10000000.0\n",
      "CallApp: Caller ID, Blocker & Phone Call Recorder : 10000000.0\n",
      "Browser 4G : 10000000.0\n",
      "Adblock Browser for Android : 10000000.0\n",
      "AT&T Visual Voicemail : 10000000.0\n",
      "Your Freedom VPN Client : 5000000.0\n",
      "Web Browser & Explorer : 5000000.0\n",
      "Sync.ME – Caller ID & Block : 5000000.0\n",
      "Skype Lite - Free Video Call & Chat : 5000000.0\n",
      "My Vodacom SA : 5000000.0\n",
      "My Tele2 : 5000000.0\n",
      "Microsoft Edge : 5000000.0\n",
      "K-9 Mail : 5000000.0\n",
      "JusTalk - Free Video Calls and Fun Video Chat : 5000000.0\n",
      "Full Screen Caller ID : 5000000.0\n",
      "Ear Agent: Super Hearing : 5000000.0\n",
      "Daum Mail - Next Mail : 5000000.0\n",
      "Chrome Dev : 5000000.0\n",
      "Calls & Text by Mo+ : 5000000.0\n",
      "Caller ID & Call Block - DU Caller : 5000000.0\n",
      "Call Free – Free Call : 5000000.0\n",
      "Call Control - Call Blocker : 5000000.0\n",
      "CM Transfer - Share any files with friends nearby : 5000000.0\n",
      "CIA - Caller ID & Call Blocker : 5000000.0\n",
      "Brave Browser: Fast AdBlocker : 5000000.0\n",
      "Bluetooth Auto Connect : 5000000.0\n",
      "AT&T Call Protect : 5000000.0\n",
      "mysms SMS Text Messaging Sync : 1000000.0\n",
      "mail.com mail : 1000000.0\n",
      "Wi-Fi Auto-connect : 1000000.0\n",
      "Web Browser for Android : 1000000.0\n",
      "WeFi - Free Fast WiFi Connect & Find Wi-Fi Map : 1000000.0\n",
      "Vonage Mobile® Call Video Text : 1000000.0\n",
      "Virtual Walkie Talkie : 1000000.0\n",
      "Video Caller Id : 1000000.0\n",
      "True Contact - Real Caller ID : 1000000.0\n",
      "TracFone My Account : 1000000.0\n",
      "Tiny Call Confirm : 1000000.0\n",
      "Should I Answer? : 1000000.0\n",
      "Seznam.cz : 1000000.0\n",
      "Safest Call Blocker : 1000000.0\n",
      "SW-100.tch by Callstel : 1000000.0\n",
      "RocketDial Dialer & Contacts : 1000000.0\n",
      "PHONE for Google Voice & GTalk : 1000000.0\n",
      "Ninesky Browser : 1000000.0\n",
      "Newton Mail - Email App for Gmail, Outlook, IMAP : 1000000.0\n",
      "My magenta : 1000000.0\n",
      "My Vodafone (GR) : 1000000.0\n",
      "Messaging+ SMS, MMS Free : 1000000.0\n",
      "Lite for Facebook Messenger : 1000000.0\n",
      "InBrowser - Incognito Browsing : 1000000.0\n",
      "Ghostery Privacy Browser : 1000000.0\n",
      "Firefox Focus: The privacy browser : 1000000.0\n",
      "Email TypeApp - Mail App : 1000000.0\n",
      "DW Contacts & Phone & Dialer : 1000000.0\n",
      "ClanPlay: Community and Tools for Gamers : 1000000.0\n",
      "Caller ID + : 1000000.0\n",
      "Call Blocker - Blacklist, SMS Blocker : 1000000.0\n",
      "CB Radio Chat - for friends! : 1000000.0\n",
      "Burner - Free Phone Number : 1000000.0\n",
      "BBMoji - Your personalized BBM Stickers : 1000000.0\n",
      "AntennaPict β : 1000000.0\n",
      "All Email Providers : 1000000.0\n",
      "Adblock Plus for Samsung Internet - Browse safe. : 1000000.0\n",
      "AW - free video calls and chat : 1000000.0\n",
      "AT&T Messages for Tablet : 1000000.0\n",
      "2ndLine - Second Phone Number : 1000000.0\n",
      "Web Browser : 500000.0\n",
      "U - Webinars, Meetings & Messenger : 500000.0\n",
      "TownWiFi | Wi-Fi Everywhere : 500000.0\n",
      "Talkie - Wi-Fi Calling, Chats, File Sharing : 500000.0\n",
      "SolMail - All-in-One email app : 500000.0\n",
      "LokLok: Draw on a Lock Screen : 500000.0\n",
      "Lightning Web Browser : 500000.0\n",
      "FreedomPop Messaging Phone/SIM : 500000.0\n",
      "BD Data Plan (3G & 4G) : 500000.0\n",
      "WiFi Access Point (hotspot) : 100000.0\n",
      "T-Mobile DIGITS : 100000.0\n",
      "QRZ Assistant : 100000.0\n",
      "Portable Wi-Fi hotspot Free : 100000.0\n",
      "PlacarTv Futebol Ao Vivo : 100000.0\n",
      "Morse Code Reader : 100000.0\n",
      "M star Dialer : 100000.0\n",
      "K-@ Mail - Email App : 100000.0\n",
      "Goodbox - Mega App : 100000.0\n",
      "Everbridge : 100000.0\n",
      "Channel 19 : 100000.0\n",
      "CB On Mobile : 100000.0\n",
      "Baby Monitor AV : 100000.0\n",
      "BT MeetMe with Dolby Voice : 100000.0\n",
      "Antillean Gold Telegram (original version) : 100000.0\n",
      "AZ Browser. Private & Download : 100000.0\n",
      "X Browser : 50000.0\n",
      "N-Com Wizard : 50000.0\n",
      "My BF App : 50000.0\n",
      "IZ2UUF Morse Koch CW : 50000.0\n",
      "HipChat - beta version : 50000.0\n",
      "Free Wi-fi HotspoT : 50000.0\n",
      "BT Messenger : 50000.0\n",
      "BD Internet Packages (Updated) : 50000.0\n",
      "AudioBT: BT audio GPS/SMS/Text : 50000.0\n",
      "3G DZ Configuration : 50000.0\n",
      "m:go BiH : 10000.0\n",
      "[verify-U] VideoIdent : 10000.0\n",
      "Ring : 10000.0\n",
      "Pocket Prefix Plus : 10000.0\n",
      "Mail1Click - Secure Mail : 10000.0\n",
      "Jazz Wi-Fi : 10000.0\n",
      "Inbox.eu : 10000.0\n",
      "Ham Radio Prefixes : 10000.0\n",
      "Feel Performer : 10000.0\n",
      "Eg Call : 10000.0\n",
      "EZ Wifi Notification : 10000.0\n",
      "Deaf World DW : 10000.0\n",
      "DMR BrandMeister Tool : 10000.0\n",
      "ClanHQ : 10000.0\n",
      "BT One Phone Mobile App : 10000.0\n",
      "BF Browser by Betfilter - Stop Gambling Today! : 10000.0\n",
      "BD Dialer : 10000.0\n",
      "Ad Blocker Turbo - Adblocker Browser : 10000.0\n",
      "Access Point Names : 10000.0\n",
      "/u/app : 10000.0\n",
      "retteMi.ch : 5000.0\n",
      "mail.co.uk Mail : 5000.0\n",
      "love sms good morning : 5000.0\n",
      "Sat-Fi : 5000.0\n",
      "Mircules DX Cluster Lite : 5000.0\n",
      "Learn Morse Code - G0HYN Learn Morse : 5000.0\n",
      "K-9 Material (unofficial) : 5000.0\n",
      "Ham DX Cluster & Spots Finder : 5000.0\n",
      "DM for WhatsApp : 5000.0\n",
      "DM Talk New : 5000.0\n",
      "Council Voting Calculator : 5000.0\n",
      "CS Browser Beta : 5000.0\n",
      "BT One Voice mobile access : 5000.0\n",
      "BD Live Call : 5000.0\n",
      "AK Phone : 5000.0\n",
      "AG Contacts, Lite edition : 5000.0\n",
      "cluster.dk : 1000.0\n",
      "Sat-Fi Voice : 1000.0\n",
      "SMS Sender - sluzba.cz : 1000.0\n",
      "ReadyOp DT : 1000.0\n",
      "FO AIRBUS TLSE : 1000.0\n",
      "FC Browser - Focus Privacy Browser : 1000.0\n",
      "EU Council : 1000.0\n",
      "DM Tracker : 1000.0\n",
      "Call Blocker & Blacklist : 1000.0\n",
      "CS Customizer : 1000.0\n",
      "CS Browser | #1 & BEST BROWSER : 1000.0\n",
      "CQ-Mobile : 1000.0\n",
      "BlueDV AMBE : 1000.0\n",
      "BQ Partners : 1000.0\n",
      "BN MALLORCA Radio : 1000.0\n",
      "BK Chat : 1000.0\n",
      "BH Mail : 1000.0\n",
      "AV Phone : 1000.0\n",
      "AU Call Blocker - Block Unwanted Calls Texts 2018 : 1000.0\n",
      "Traffic signs BD : 500.0\n",
      "Rádio Sol Nascente DF : 500.0\n",
      "Have your say on Europe : 500.0\n",
      "ES-1 : 500.0\n",
      "CW BLE Peripheral Simulator : 500.0\n",
      "CQ-Alert : 500.0\n",
      "Best Auto Call Recorder Free : 500.0\n",
      "ATC Unico BS : 500.0\n",
      "tournaments and more.aj.2 : 100.0\n",
      "chat dz : 100.0\n",
      "[EF]ShoutBox : 100.0\n",
      "Programi podrške EU : 100.0\n",
      "MARKET FO : 100.0\n",
      "Katalogen.ax : 100.0\n",
      "FP Connect : 100.0\n",
      "FO STELIA Méaulte : 100.0\n",
      "FO SODEXO : 100.0\n",
      "FO RCBT : 100.0\n"
     ]
    },
    {
     "name": "stdout",
     "output_type": "stream",
     "text": [
      "FO PSA Sept-Fons : 100.0\n",
      "FO OP St-Nazaire : 100.0\n",
      "FO Interim : 100.0\n",
      "FO AIRBUS Nantes : 100.0\n",
      "EP RSS Reader : 100.0\n",
      "EHiN-FH conferenceapp : 100.0\n",
      "DG Card : 100.0\n",
      "Cy Messenger : 100.0\n",
      "Carpooling FH Hagenberg : 100.0\n",
      "CW Bluetooth SPP : 100.0\n",
      "CJ DVD Rentals : 100.0\n",
      "CJ Browser - Fast & Private : 100.0\n",
      "CF Chat: Connecting Friends : 100.0\n",
      "C W Browser : 100.0\n",
      "Bee'ah Employee App : 100.0\n",
      "BV : 100.0\n",
      "Amadeus GR & CY : 100.0\n",
      "Aj.Petra : 100.0\n",
      "Hyundai CX Conference : 50.0\n",
      "DK TEL Dialer : 50.0\n",
      "Cb browser : 50.0\n",
      "BS-Mobile : 50.0\n",
      "AC-BL : 50.0\n",
      "ei : 10.0\n",
      "Oklahoma Ag Co-op Council : 10.0\n",
      "Hlášenírozhlasu.cz : 10.0\n",
      "FP Live : 10.0\n",
      "FNH Payment Info : 10.0\n",
      "FN Web Radio : 10.0\n",
      "Ek IRA : 10.0\n",
      "EO Mumbai : 10.0\n",
      "EJ messenger : 10.0\n",
      "DM - The Offical Messaging App : 10.0\n",
      "DK Browser : 10.0\n",
      "CK Call NEW : 10.0\n",
      "Best Browser BD social networking : 10.0\n",
      "BJ - Confidential : 10.0\n",
      "Test Server SMS FA : 5.0\n",
      "Of the wall Arapaho bk : 5.0\n",
      "BA SALES : 1.0\n"
     ]
    }
   ],
   "source": [
    "android_com_installs = []\n",
    "android_com_apps = []\n",
    "android_com_tuples = []\n",
    "\n",
    "for app in android_final:\n",
    "    if app[1] == 'COMMUNICATION':\n",
    "        n_installs = app[5]\n",
    "        n_installs = n_installs.replace(',', '')\n",
    "        n_installs = n_installs.replace('+', '')\n",
    "        n_installs = float(n_installs)\n",
    "        mytuple = (n_installs, app[0])\n",
    "        android_com_tuples.append(mytuple)\n",
    "        android_com_apps.append(app[0])\n",
    "        android_com_installs.append(n_installs)\n",
    "\n",
    "android_com_table = []\n",
    "android_com_table.append(android_com_apps)\n",
    "android_com_table.append(android_com_installs)\n",
    "\n",
    "sorted_android_com_table = sorted(android_com_tuples, reverse = True)\n",
    "\n",
    "for entry in sorted_android_com_table:\n",
    "    print(entry[1], ':', entry[0])\n"
   ]
  },
  {
   "cell_type": "code",
   "execution_count": 48,
   "id": "3a7179ad",
   "metadata": {
    "scrolled": true
   },
   "outputs": [
    {
     "name": "stdout",
     "output_type": "stream",
     "text": [
      "Instagram : 1000000000.0\n",
      "Google+ : 1000000000.0\n",
      "Facebook : 1000000000.0\n",
      "Snapchat : 500000000.0\n",
      "Facebook Lite : 500000000.0\n",
      "VK : 100000000.0\n",
      "Tumblr : 100000000.0\n",
      "Tik Tok - including musical.ly : 100000000.0\n",
      "Tango - Live Video Broadcast : 100000000.0\n",
      "Pinterest : 100000000.0\n",
      "LinkedIn : 100000000.0\n",
      "Badoo - Free Chat & Dating App : 100000000.0\n",
      "BIGO LIVE - Live Stream : 100000000.0\n",
      "ooVoo Video Calls, Messaging & Stories : 50000000.0\n",
      "Zello PTT Walkie Talkie : 50000000.0\n",
      "SKOUT - Meet, Chat, Go Live : 50000000.0\n",
      "POF Free Dating App : 50000000.0\n",
      "MeetMe: Chat & Meet New People : 50000000.0\n",
      "textPlus: Free Text & Calls : 10000000.0\n",
      "magicApp Calling & Messaging : 10000000.0\n",
      "YouNow: Live Stream Video Chat : 10000000.0\n",
      "We Heart It : 10000000.0\n",
      "Waplog - Free Chat, Dating App, Meet Singles : 10000000.0\n",
      "TextNow - free text + calls : 10000000.0\n",
      "Text free - Free Text + Call : 10000000.0\n",
      "Text Me: Text Free, Call Free, Second Phone Number : 10000000.0\n",
      "Tapatalk - 100,000+ Forums : 10000000.0\n",
      "Tagged - Meet, Chat & Dating : 10000000.0\n",
      "SayHi Chat, Meet New People : 10000000.0\n",
      "Quora : 10000000.0\n",
      "Phone Tracker : Family Locator : 10000000.0\n",
      "Periscope - Live Video : 10000000.0\n",
      "Path : 10000000.0\n",
      "Mico- Stranger Chat Random video Chat, Live, Meet : 10000000.0\n",
      "Messenger Messenger : 10000000.0\n",
      "Messenger : 10000000.0\n",
      "Messages, Text and Video Chat for Messenger : 10000000.0\n",
      "LiveMe - Video chat, new friends, and make money : 10000000.0\n",
      "Legend - Animate Text in Video : 10000000.0\n",
      "LOVOO : 10000000.0\n",
      "Kate Mobile for VK : 10000000.0\n",
      "Jaumo Dating, Flirt & Live Video : 10000000.0\n",
      "HTC Social Plugin - Facebook : 10000000.0\n",
      "Grindr - Gay chat : 10000000.0\n",
      "Free phone calls, free texting SMS on free number : 10000000.0\n",
      "Find My Friends : 10000000.0\n",
      "Dating App, Flirt & Chat : W-Match : 10000000.0\n",
      "Amino: Communities and Chats : 10000000.0\n",
      "Who Viewed My Facebook Profile - Stalkers Visitors : 5000000.0\n",
      "Whisper : 5000000.0\n",
      "Web Browser & Fast Explorer : 5000000.0\n",
      "VidStatus app - Status Videos & Status Downloader : 5000000.0\n",
      "Timehop : 5000000.0\n",
      "Text Free: WiFi Calling App : 5000000.0\n",
      "Telegram X : 5000000.0\n",
      "SPARK - Live random video chat & meet new people : 5000000.0\n",
      "Nextdoor - Local neighborhood news & classifieds : 5000000.0\n",
      "Meetup : 5000000.0\n",
      "Meet – Talk to Strangers Using Random Video Chat : 5000000.0\n",
      "Instachat 😜 : 5000000.0\n",
      "Hornet - Gay Social Network : 5000000.0\n",
      "Hide Something - Photo, Video : 5000000.0\n",
      "HOLLA Live: Meet New People via Random Video Chat : 5000000.0\n",
      "FunForMobile Ringtones & Chat : 5000000.0\n",
      "Frim: get new friends on local chat rooms : 5000000.0\n",
      "Fame Boom for Real Followers, Likes : 5000000.0\n",
      "Blogger : 5000000.0\n",
      "💘 WhatsLov: Smileys of love, stickers and GIF : 1000000.0\n",
      "pixiv : 1000000.0\n",
      "Wishbone - Compare Anything : 1000000.0\n",
      "VMate Lite - Funny Short Videos Social Network : 1000000.0\n",
      "U LIVE – Video Chat & Stream : 1000000.0\n",
      "TwitCasting Live : 1000000.0\n",
      "The Messenger App : 1000000.0\n",
      "Stickers for Facebook : 1000000.0\n",
      "Snaappy – 3D fun AR core communication platform : 1000000.0\n",
      "Moment : 1000000.0\n",
      "MobilePatrol Public Safety App : 1000000.0\n",
      "Messenger Pro : 1000000.0\n",
      "Love Sticker : 1000000.0\n",
      "Love Images : 1000000.0\n",
      "Lesbian Chat & Dating - SPICY : 1000000.0\n",
      "Jodel - The Hyperlocal App : 1000000.0\n",
      "GUYZ - Gay Chat & Gay Dating : 1000000.0\n",
      "Frontback - Social Photos : 1000000.0\n",
      "Friendly for Facebook : 1000000.0\n",
      "Free Messages, Video, Chat,Text for Messenger Plus : 1000000.0\n",
      "FollowMeter for Instagram : 1000000.0\n",
      "Fiesta by Tango - Find, Meet and Make New Friends : 1000000.0\n",
      "Faster for Facebook Lite : 1000000.0\n",
      "Family GPS tracker KidControl + GPS by SMS Locator : 1000000.0\n",
      "Facebook Local : 1000000.0\n",
      "Facebook Creator : 1000000.0\n",
      "EZ Video Download for Facebook : 1000000.0\n",
      "Couple - Relationship App : 1000000.0\n",
      "Banjo : 1000000.0\n",
      "BOO! - Next Generation Messenger : 1000000.0\n",
      "B-Messenger Video Chat : 1000000.0\n",
      "All Social Networks : 1000000.0\n",
      "+Download 4 Instagram Twitter : 1000000.0\n",
      "Web Browser ( Fast & Secure Web Explorer) : 500000.0\n",
      "Verdad o Reto : 500000.0\n",
      "Swift for Facebook Lite : 500000.0\n",
      "Stream - Live Video Community : 500000.0\n",
      "Qeek for Instagram - Zoom profile insta DP : 500000.0\n",
      "Puffin for Facebook : 500000.0\n",
      "Profile Tracker - Who Viewed My Facebook Profile : 500000.0\n",
      "Pink Color for Facebook : 500000.0\n",
      "Mirrativ: Live Stream Any App : 500000.0\n",
      "Greeting Cards & Wishes : 500000.0\n",
      "Gayvox - Gay Lesbian Bi Dating : 500000.0\n",
      "Fake Chat (Direct Message) : 500000.0\n",
      "Daddyhunt: Gay Dating : 500000.0\n",
      "Bloglovin' : 500000.0\n",
      "uCiC- Videos and Photos on demand : 100000.0\n",
      "YAY - TBH : 100000.0\n",
      "What U See : 100000.0\n",
      "The Video Messenger App : 100000.0\n",
      "Social network all in one 2018 : 100000.0\n",
      "See U - Random video chat, video chat : 100000.0\n",
      "Phoenix - Facebook & Messenger : 100000.0\n",
      "Patook - make platonic friends : 100000.0\n",
      "Meet U - Get Friends for Snapchat, Kik & Instagram : 100000.0\n",
      "MB Notifications for FB (Free) : 100000.0\n",
      "KPOP Amino for K-Pop Entertainment : 100000.0\n",
      "KDRAMA Amino for K-Drama Fans : 100000.0\n",
      "FutureNet your social app : 100000.0\n",
      "Fr Daoud Lamei : 100000.0\n",
      "Faster Social for Facebook : 100000.0\n",
      "Dr. B.R.Ambedkar : 100000.0\n",
      "Dr B R Ambedkar (Jai Bhim) : 100000.0\n",
      "Dating.dk : 100000.0\n",
      "DP and Status for WhatsApp 2018 : 100000.0\n",
      "Chat For Strangers - Video Chat : 100000.0\n",
      "Blogaway for Android (Blogger) : 100000.0\n",
      "Undertale AU Amino : 50000.0\n",
      "Rande.cz : 50000.0\n",
      "Hashtags For Likes.co : 50000.0\n",
      "Golden telegram : 50000.0\n",
      "FCB Connect - FC Barcelona : 50000.0\n",
      "Equestria Amino for MLP : 50000.0\n",
      "EXO-L Amino for EXO Fans : 50000.0\n",
      "CP Dialer : 50000.0\n",
      "BT Dating -Find your match, help cupid, be social : 50000.0\n",
      "Anime et Manga Amino en Français : 50000.0\n",
      "Unlimited Group Links - Whatsapp, FB, Telegram : 10000.0\n",
      "U-Report : 10000.0\n",
      "Stickers for Imo, fb, whatsapp : 10000.0\n",
      "Share G - Images Sharing - Wallpapers App : 10000.0\n",
      "Mini for Facebook lite : 10000.0\n",
      "Mali J : 10000.0\n",
      "Lite Messenger for Facebook Lite : 10000.0\n",
      "Jamaa Amino for Animal Jam : 10000.0\n",
      "Ek Maratha : 10000.0\n",
      "Eddsworld Amino : 10000.0\n",
      "Digi-TV.ch : 10000.0\n",
      "Daily Murli Saar Widget : 10000.0\n",
      "DM Me - Chat : 10000.0\n",
      "Cyprus Police : 10000.0\n",
      "Best DP and Status : 10000.0\n",
      "BT Communicator : 10000.0\n",
      "BK Traffic Control cum Chart : 10000.0\n",
      "Au Pair : 10000.0\n",
      "funny Image Comments for FB : 5000.0\n",
      "TNEB Bill Online Payment (Tamil) : 5000.0\n",
      "TN e Sevai TN EB Bill Patta Citta EC Birth All Hub : 5000.0\n",
      "Profile Pictures and DP for Whatsapp : 5000.0\n",
      "Instant DP Downloader for Instagram : 5000.0\n",
      "Dp for Facebook : 5000.0\n",
      "Dp For Whatsapp : 5000.0\n",
      "DP Display Pictures Life Quotes Motivational GM : 5000.0\n",
      "DM for IG 😘 - Image & Video Saver for Instagram : 5000.0\n",
      "DB Event App : 5000.0\n",
      "Check Your Visitors on FB ? : 5000.0\n",
      "signály.cz : 1000.0\n",
      "eChallan Andhra Pradesh (AP) : 1000.0\n",
      "Zdravei.BG : 1000.0\n",
      "V Bucks ProTips New : 1000.0\n",
      "TN EC Online New : 1000.0\n",
      "Students.ch : 1000.0\n",
      "Sabka Malik Ek Sai : 1000.0\n",
      "Noticias DF : 1000.0\n",
      "Media Sosial TNI AU : 1000.0\n",
      "Join R, Community Engagement : 1000.0\n",
      "H letter images : 1000.0\n",
      "European Solidarity Corps : 1000.0\n",
      "DW Streaming : 1000.0\n",
      "DC Comics Amino : 1000.0\n",
      "CG Districts : 1000.0\n",
      "Black Social : 1000.0\n",
      "BR Chat Bot : 1000.0\n",
      "BGKontakti Vienna BG Kontakti : 1000.0\n",
      "BGKontakti Bayern BG Kontakti : 1000.0\n",
      "BG LINKED (BGLINKED) : 1000.0\n",
      "Auto DM for Twitter 🔥 : 1000.0\n",
      "Alarm.fo – choose your info : 1000.0\n",
      "iCard BD Plus : 500.0\n",
      "Downloader plus for FB : 500.0\n",
      "DK Murali : 500.0\n",
      "DF BugMeNot : 500.0\n",
      "Br Browser : 500.0\n",
      "BGKontakti London BG Kontakti : 500.0\n",
      "i-share AF/KLM (AFKL ishare) : 100.0\n",
      "TN Patta /Chitta /EC New : 100.0\n",
      "Rejoin Your Ex : 100.0\n",
      "Naruto & Boruto FR : 100.0\n",
      "Myjob@BM : 100.0\n",
      "Movement BE : 100.0\n",
      "Message AI - Write Better Messages (Free) : 100.0\n",
      "GirlTalk.dk : 100.0\n",
      "Frases Cristianas de Esperanza y Fe : 100.0\n",
      "Evasion.bz : 100.0\n",
      "Eternal Light AG : 100.0\n",
      "Discípulos em BH : 100.0\n",
      "DV Statistics : 100.0\n",
      "DM Storage (for twitter) : 100.0\n",
      "CJ Gospel Hour : 100.0\n",
      "Alumni BJ : 100.0\n",
      "UP EB Bill Payment & Details : 50.0\n",
      "FB Advanced Search : 50.0\n",
      "EG Way Life : 50.0\n",
      "Coupe Adhémar EY 2017 : 50.0\n",
      "quran-DZ : 10.0\n",
      "bm-Events : 10.0\n",
      "Reisedealz.eu : 10.0\n",
      "Otto DM : 10.0\n",
      "News Dz : 10.0\n",
      "Hum Ek Hain 2.02 : 10.0\n",
      "EO RAIPUR : 10.0\n",
      "DN Blog : 10.0\n",
      "BA 3 Banjarmasin : 10.0\n",
      "CB Heroes : 5.0\n",
      "C.P. CERVANTES (TOBARRA) : 5.0\n",
      "BH Connect : 1.0\n",
      "Amleen Ey : 1.0\n",
      "Pekalongan CJ : 0.0\n"
     ]
    }
   ],
   "source": [
    "android_ent_installs = []\n",
    "android_ent_apps = []\n",
    "android_ent_tuples = []\n",
    "\n",
    "for app in android_final:\n",
    "    if app[1] == 'SOCIAL':\n",
    "        n_installs = app[5]\n",
    "        n_installs = n_installs.replace(',', '')\n",
    "        n_installs = n_installs.replace('+', '')\n",
    "        n_installs = float(n_installs)\n",
    "        mytuple = (n_installs, app[0])\n",
    "        android_ent_tuples.append(mytuple)\n",
    "        android_ent_apps.append(app[0])\n",
    "        android_ent_installs.append(n_installs)\n",
    "\n",
    "android_ent_table = []\n",
    "android_ent_table.append(android_ent_apps)\n",
    "android_ent_table.append(android_ent_installs)\n",
    "\n",
    "sorted_android_ent_table = sorted(android_ent_tuples, reverse = True)\n",
    "\n",
    "for entry in sorted_android_ent_table:\n",
    "    print(entry[1], ':', entry[0])"
   ]
  },
  {
   "cell_type": "code",
   "execution_count": 49,
   "id": "52185c01",
   "metadata": {},
   "outputs": [
    {
     "name": "stdout",
     "output_type": "stream",
     "text": [
      "YouTube : 1000000000.0\n",
      "Google Play Movies & TV : 1000000000.0\n",
      "MX Player : 500000000.0\n",
      "VivaVideo - Video Editor & Photo Movie : 100000000.0\n",
      "VideoShow-Video Editor, Video Maker, Beauty Camera : 100000000.0\n",
      "VLC for Android : 100000000.0\n",
      "Motorola Gallery : 100000000.0\n",
      "Motorola FM Radio : 100000000.0\n",
      "Dubsmash : 100000000.0\n",
      "Vote for : 50000000.0\n",
      "Vigo Video : 50000000.0\n",
      "VMate : 50000000.0\n",
      "Samsung Video Library : 50000000.0\n",
      "Ringdroid : 50000000.0\n",
      "MiniMovie - Free Video and Slideshow Editor : 50000000.0\n",
      "LIKE – Magic Video Maker & Community : 50000000.0\n",
      "KineMaster – Pro Video Editor : 50000000.0\n",
      "HD Video Downloader : 2018 Best video mate : 50000000.0\n",
      "DU Recorder – Screen Recorder, Video Editor, Live : 50000000.0\n",
      "video player for android : 10000000.0\n",
      "iMediaShare – Photos & Music : 10000000.0\n",
      "YouTube Studio : 10000000.0\n",
      "Video Player All Format : 10000000.0\n",
      "Video Downloader - for Instagram Repost App : 10000000.0\n",
      "Video Downloader : 10000000.0\n",
      "Ustream : 10000000.0\n",
      "Quik – Free Video Editor for photos, clips, music : 10000000.0\n",
      "PowerDirector Video Editor App: 4K, Slow Mo & More : 10000000.0\n",
      "Omlet Arcade - Stream, Meet, Play : 10000000.0\n",
      "Naruto Shippuden - Watch Free! : 10000000.0\n",
      "Music - Mp3 Player : 10000000.0\n",
      "Mobizen Screen Recorder for SAMSUNG : 10000000.0\n",
      "Magisto Video Editor & Maker : 10000000.0\n",
      "Inst Download - Video & Photo : 10000000.0\n",
      "HTC Service － DLNA : 10000000.0\n",
      "HTC Gallery : 10000000.0\n",
      "FrostWire: Torrent Downloader & Music Player : 10000000.0\n",
      "FilmoraGo - Free Video Editor : 10000000.0\n",
      "Code : 10000000.0\n",
      "Cartoon Network App : 10000000.0\n",
      "BitTorrent®- Torrent Downloads : 10000000.0\n",
      "BSPlayer FREE : 10000000.0\n",
      "All Video Downloader : 10000000.0\n",
      "AfreecaTV : 10000000.0\n",
      "AZ Screen Recorder - No Root : 10000000.0\n",
      "YouCut - Video Editor & Video Maker, No Watermark : 5000000.0\n",
      "WiFi Baby Monitor - NannyCam : 5000000.0\n",
      "Video Editor : 5000000.0\n",
      "HTC Service—Video Player : 5000000.0\n",
      "Droid Zap by Motorola : 5000000.0\n",
      "Adobe Premiere Clip : 5000000.0\n",
      "ActionDirector Video Editor - Edit Videos Fast : 5000000.0\n",
      "video player : 1000000.0\n",
      "iSmart DV : 1000000.0\n",
      "iPlayIT for YouTube VR Player : 1000000.0\n",
      "XX HD Video downloader-Free Video Downloader : 1000000.0\n",
      "Vuze Torrent Downloader : 1000000.0\n",
      "Video.Guru - Video Maker : 1000000.0\n",
      "Video Status : 1000000.0\n",
      "Video Editor,Crop Video,Movie Video,Music,Effects : 1000000.0\n",
      "VidPlay : 1000000.0\n",
      "VUE: video editor & camcorder : 1000000.0\n",
      "VPlayer : 1000000.0\n",
      "Tencent Video - Supporting the whole network : 1000000.0\n",
      "SVT Play : 1000000.0\n",
      "Play Tube : 1000000.0\n",
      "OnePlus Gallery : 1000000.0\n",
      "OBJECTIVE : 1000000.0\n",
      "Multiple Videos at Same Time : 1000000.0\n",
      "Mobizen Screen Recorder for LG - Record, Capture : 1000000.0\n",
      "Iqiyi (for tablet) : 1000000.0\n",
      "HD Video Player : 1000000.0\n",
      "HD Video Download for Facebook : 1000000.0\n",
      "HD Movie Video Player : 1000000.0\n",
      "G Guide Program Guide (SOFTBANK EMOBILE WILLCOM version) : 1000000.0\n",
      "Funny videos for whatsapp : 1000000.0\n",
      "EZCast – Cast Media to TV : 1000000.0\n",
      "DU Privacy-hide apps、sms、file : 1000000.0\n",
      "DS video : 1000000.0\n",
      "DS photo : 1000000.0\n",
      "BluTV : 1000000.0\n",
      "BSPlayer ARMv7 VFP CPU support : 1000000.0\n",
      "AndStream - Streaming Download : 1000000.0\n",
      "All Video Downloader 2018 : 1000000.0\n",
      "AX Player -Nougat Video Player : 1000000.0\n",
      "Video Player All Format for Android : 500000.0\n",
      "GoPlus Cam : 500000.0\n",
      "DR TV : 500000.0\n",
      "CJ VLC HD Remote (+ Stream) : 500000.0\n",
      "amazer - Global Kpop Video Community : 100000.0\n",
      "Video Downloader for FB : Video Download with Link : 100000.0\n",
      "Sketch 'n' go : 100000.0\n",
      "Nero AirBurn : 100000.0\n",
      "GoAction : 100000.0\n",
      "Free TV series : 100000.0\n",
      "Ez Screen Recorder (no ad) : 100000.0\n",
      "EZ Web Video Cast | Chromecast : 100000.0\n",
      "ES Audio Player ( Shortcut ) : 100000.0\n",
      "BGCN TV : 100000.0\n",
      "AW Screen Recorder No Root : 100000.0\n",
      "AB Repeat Player : 100000.0\n",
      "dv Prompter : 50000.0\n",
      "bgtime.tv : 50000.0\n",
      "ES-IPTV : 50000.0\n",
      "BR Series : 50000.0\n",
      "AX Video Player : 50000.0\n",
      "ACTIVEON CX & CX GOLD : 50000.0\n",
      "ek tuhi : 10000.0\n",
      "W Box VMS : 10000.0\n",
      "MelifeCam-M : 10000.0\n",
      "HD VideoDownlaoder For Fb : XXVideo Downloader : 10000.0\n",
      "HD Video Player (wmv,avi,mp4,flv,av,mpg,mkv)2017 : 10000.0\n",
      "EZ-SEE : 10000.0\n",
      "EZ Usenet for Easynews® : 10000.0\n",
      "EZ TV Player : 10000.0\n",
      "EML UPnP-AV Control Point : 10000.0\n",
      "Downvids Helper - One touch DW : 10000.0\n",
      "DG Video Editor : 10000.0\n",
      "DG UPnP Player Free : 10000.0\n",
      "Casper Ssinema : 10000.0\n",
      "BS player remote : 10000.0\n",
      "BK News Channel : 10000.0\n",
      "W Box VMS HD : 5000.0\n",
      "Videos downloader for Facebook:fast fb video saver : 5000.0\n",
      "Q-See Plus : 5000.0\n",
      "M-Sight Pro : 5000.0\n",
      "HD Video Player - Video & MP3 Player | AV Player | : 5000.0\n",
      "Furrion ES Control : 5000.0\n",
      "EF Sidekick : 5000.0\n",
      "DZ Popup Video Player : 5000.0\n",
      "DV Lottery Photo : 5000.0\n",
      "BR Video Player : 5000.0\n",
      "BG video - floating video - background video : 5000.0\n",
      "Ay : 5000.0\n",
      "A-B repeater : 5000.0\n",
      "4K VIDEO PLAYER ULTRA HD : 5000.0\n",
      "Music for Youtube - Tube Music BG, Red+ : 1000.0\n",
      "Movie Downloader Torrent : Az Torrent : 1000.0\n",
      "EZ game screen recorder with audio 1080P : 1000.0\n",
      "CINE BR : 1000.0\n",
      "BZ Langenthaler Tagblatt : 1000.0\n",
      "BC iptv player : 1000.0\n",
      "Ay Sabz Gunbad Waly : 1000.0\n",
      "AV-IPTV : 1000.0\n",
      "YourTube Video Views BG : 500.0\n",
      "Video Wallpaper Show : 500.0\n",
      "DG Screen Recorder : 500.0\n",
      "CX Monthly Tech News : 500.0\n",
      "CJ Camcorder : 500.0\n",
      "A-Z Screen Recorder - : 500.0\n",
      "List iptv FR : 100.0\n",
      "EC MANAGER : 100.0\n",
      "Bx-WiFi-GI : 100.0\n",
      "Bc Vod : 100.0\n",
      "BG MUSIC PLAYER - MUSIC PLAYER : 100.0\n",
      "AK Lodi Films : 100.0\n",
      "AJ Player : 100.0\n",
      "CI Stream : 10.0\n",
      "Art of F J Taylor : 10.0\n"
     ]
    }
   ],
   "source": [
    "android_ent_installs = []\n",
    "android_ent_apps = []\n",
    "android_ent_tuples = []\n",
    "\n",
    "for app in android_final:\n",
    "    if app[1] == 'VIDEO_PLAYERS':\n",
    "        n_installs = app[5]\n",
    "        n_installs = n_installs.replace(',', '')\n",
    "        n_installs = n_installs.replace('+', '')\n",
    "        n_installs = float(n_installs)\n",
    "        mytuple = (n_installs, app[0])\n",
    "        android_ent_tuples.append(mytuple)\n",
    "        android_ent_apps.append(app[0])\n",
    "        android_ent_installs.append(n_installs)\n",
    "\n",
    "android_ent_table = []\n",
    "android_ent_table.append(android_ent_apps)\n",
    "android_ent_table.append(android_ent_installs)\n",
    "\n",
    "sorted_android_ent_table = sorted(android_ent_tuples, reverse = True)\n",
    "\n",
    "for entry in sorted_android_ent_table:\n",
    "    print(entry[1], ':', entry[0])"
   ]
  },
  {
   "cell_type": "markdown",
   "id": "03ec7c55",
   "metadata": {},
   "source": [
    "It looks as if the communication apps are dominated by a few widely used apps but many of the other communication apps do not have as many installs which makes the category as a whole seem more popular.  The entertainment category does seem to show more evenly distributed numbers of installs across different apps so a strategy may be to enter into this market with new apps to grow to be popular."
   ]
  },
  {
   "cell_type": "markdown",
   "id": "ac96d720",
   "metadata": {},
   "source": [
    "Let's drill down more to see the genres and their average installs per genre since the genre list is a little more granular and may provide more insight."
   ]
  },
  {
   "cell_type": "code",
   "execution_count": 50,
   "id": "b9b592aa",
   "metadata": {},
   "outputs": [
    {
     "name": "stdout",
     "output_type": "stream",
     "text": [
      "Communication : 38456119\n",
      "Adventure;Action & Adventure : 35333333\n",
      "Video Players & Editors : 24947336\n",
      "Social : 23253652\n",
      "Arcade : 22888365\n",
      "Casual : 19569222\n",
      "Puzzle;Action & Adventure : 18366667\n",
      "Photography : 17840110\n",
      "Educational;Action & Adventure : 17016667\n",
      "Productivity : 16787331\n",
      "Racing : 15910646\n",
      "Travel & Local : 14051476\n",
      "Casual;Action & Adventure : 12916667\n",
      "Action : 12603589\n",
      "Strategy : 11199903\n",
      "Tools : 10802461\n",
      "Tools;Education : 10000000\n",
      "Role Playing;Brain Games : 10000000\n",
      "Lifestyle;Pretend Play : 10000000\n",
      "Casual;Music & Video : 10000000\n",
      "Card;Action & Adventure : 10000000\n",
      "Adventure;Education : 10000000\n",
      "News & Magazines : 9549178\n",
      "Music : 9445583\n",
      "Educational;Pretend Play : 9375000\n",
      "Puzzle;Brain Games : 9280667\n",
      "Word : 9094459\n",
      "Racing;Action & Adventure : 8816667\n",
      "Books & Reference : 8767812\n",
      "Puzzle : 8302862\n",
      "Video Players & Editors;Music & Video : 7500000\n",
      "Shopping : 7036877\n",
      "Role Playing;Action & Adventure : 7000000\n",
      "Casual;Pretend Play : 6957143\n",
      "Entertainment;Music & Video : 6413333\n",
      "Action;Action & Adventure : 5888889\n",
      "Entertainment : 5602793\n",
      "Education;Brain Games : 5333333\n",
      "Casual;Creativity : 5333333\n",
      "Role Playing;Pretend Play : 5275000\n",
      "Personalization : 5201483\n",
      "Weather : 5074486\n",
      "Sports;Action & Adventure : 5050000\n",
      "Music;Music & Video : 5050000\n",
      "Video Players & Editors;Creativity : 5000000\n",
      "Adventure : 4922785\n",
      "Simulation;Action & Adventure : 4857143\n",
      "Education;Education : 4759517\n",
      "Board : 4759209\n",
      "Sports : 4596843\n",
      "Educational;Brain Games : 4433333\n",
      "Health & Fitness : 4188822\n",
      "Maps & Navigation : 4056942\n",
      "Entertainment;Creativity : 4000000\n",
      "Role Playing : 3965645\n",
      "Card : 3815462\n",
      "Trivia : 3475713\n",
      "Simulation : 3475484\n",
      "Casino : 3427911\n",
      "Entertainment;Brain Games : 3314286\n",
      "Arcade;Action & Adventure : 3190909\n",
      "Entertainment;Pretend Play : 3000000\n",
      "Board;Action & Adventure : 3000000\n",
      "Education;Creativity : 2875000\n",
      "Entertainment;Action & Adventure : 2333333\n",
      "Educational;Creativity : 2333333\n",
      "Art & Design : 2122851\n",
      "Education;Music & Video : 2033333\n",
      "Food & Drink : 1924898\n",
      "Education;Pretend Play : 1800000\n",
      "Educational;Education : 1737143\n",
      "Business : 1712290\n",
      "Casual;Brain Games : 1425917\n",
      "Lifestyle : 1412998\n",
      "Finance : 1387692\n",
      "House & Home : 1331541\n",
      "Parenting;Music & Video : 1118333\n",
      "Strategy;Creativity : 1000000\n",
      "Strategy;Action & Adventure : 1000000\n",
      "Racing;Pretend Play : 1000000\n",
      "Parenting;Brain Games : 1000000\n",
      "Health & Fitness;Action & Adventure : 1000000\n",
      "Entertainment;Education : 1000000\n",
      "Education;Action & Adventure : 1000000\n",
      "Casual;Education : 1000000\n",
      "Arcade;Pretend Play : 1000000\n",
      "Dating : 854029\n",
      "Comics : 831873\n",
      "Puzzle;Creativity : 750000\n",
      "Auto & Vehicles : 647318\n",
      "Libraries & Demo : 638504\n",
      "Education : 550185\n",
      "Simulation;Pretend Play : 550000\n",
      "Beauty : 513152\n",
      "Strategy;Education : 500000\n",
      "Music & Audio;Music & Video : 500000\n",
      "Communication;Creativity : 500000\n",
      "Art & Design;Pretend Play : 500000\n",
      "Parenting : 467978\n",
      "Parenting;Education : 452857\n",
      "Educational : 411185\n",
      "Board;Brain Games : 407143\n",
      "Art & Design;Creativity : 285000\n",
      "Events : 253542\n",
      "Medical : 120551\n",
      "Travel & Local;Action & Adventure : 100000\n",
      "Puzzle;Education : 100000\n",
      "Lifestyle;Education : 100000\n",
      "Health & Fitness;Education : 100000\n",
      "Art & Design;Action & Adventure : 100000\n",
      "Comics;Creativity : 50000\n",
      "Books & Reference;Education : 1000\n",
      "Simulation;Education : 500\n",
      "Trivia;Education : 100\n"
     ]
    }
   ],
   "source": [
    "genres_android = freq_table(android_final,9)\n",
    "android_genre_tuples = []\n",
    "\n",
    "for genre in genres_android:\n",
    "    total = 0\n",
    "    len_genre = 0\n",
    "    for app in android_final:\n",
    "        genres_app = app[9]\n",
    "        if genres_app == genre:\n",
    "            n_install = app[5]\n",
    "            n_install = n_install.replace(',','')\n",
    "            n_install = n_install.replace('+','')\n",
    "            total += float(n_install)\n",
    "            len_genre += 1\n",
    "    avg_installs_per_genre = total / len_genre\n",
    "    mytuple = (avg_installs_per_genre, genre)\n",
    "    android_genre_tuples.append(mytuple)\n",
    "\n",
    "sorted_android_genre_table = sorted(android_genre_tuples, reverse = True)\n",
    "\n",
    "for entry in sorted_android_genre_table:\n",
    "    print(entry[1], ':', round(entry[0]))"
   ]
  },
  {
   "cell_type": "markdown",
   "id": "43a0004c",
   "metadata": {},
   "source": [
    "Recognizing that the Games category seemed to show evidence of high popularity, looking at genres in the Google Play store seems to affirm that same trend.  It seems that the genre \"Action & Adventure\" is very popular and is able to cover a variety of different apps."
   ]
  },
  {
   "cell_type": "code",
   "execution_count": 51,
   "id": "b2d605b5",
   "metadata": {},
   "outputs": [
    {
     "name": "stdout",
     "output_type": "stream",
     "text": [
      "Adventure;Action & Adventure : 35333333\n",
      "Puzzle;Action & Adventure : 18366667\n",
      "Educational;Action & Adventure : 17016667\n",
      "Casual;Action & Adventure : 12916667\n",
      "Card;Action & Adventure : 10000000\n",
      "Racing;Action & Adventure : 8816667\n",
      "Role Playing;Action & Adventure : 7000000\n",
      "Action;Action & Adventure : 5888889\n",
      "Sports;Action & Adventure : 5050000\n",
      "Simulation;Action & Adventure : 4857143\n",
      "Arcade;Action & Adventure : 3190909\n",
      "Board;Action & Adventure : 3000000\n",
      "Entertainment;Action & Adventure : 2333333\n",
      "Strategy;Action & Adventure : 1000000\n",
      "Health & Fitness;Action & Adventure : 1000000\n",
      "Education;Action & Adventure : 1000000\n",
      "Travel & Local;Action & Adventure : 100000\n",
      "Art & Design;Action & Adventure : 100000\n"
     ]
    }
   ],
   "source": [
    "genres_android = freq_table(android_final,9)\n",
    "android_genre_tuples = []\n",
    "\n",
    "for genre in genres_android:\n",
    "    total = 0\n",
    "    len_genre = 0\n",
    "    for app in android_final:\n",
    "        genres_app = app[9]\n",
    "        if genres_app == genre:\n",
    "            n_install = app[5]\n",
    "            n_install = n_install.replace(',','')\n",
    "            n_install = n_install.replace('+','')\n",
    "            total += float(n_install)\n",
    "            len_genre += 1\n",
    "    avg_installs_per_genre = total / len_genre\n",
    "    mytuple = (avg_installs_per_genre, genre)\n",
    "    android_genre_tuples.append(mytuple)\n",
    "\n",
    "sorted_android_genre_table = sorted(android_genre_tuples, reverse = True)\n",
    "\n",
    "for entry in sorted_android_genre_table:\n",
    "    if 'Action & Adventure' in entry[1]:\n",
    "        print(entry[1], ':', round(entry[0]))"
   ]
  },
  {
   "cell_type": "markdown",
   "id": "c024117a",
   "metadata": {},
   "source": [
    "Observing this specific genre of apps it would seem that if we are wanting to enter into a specific app market, then creating an \"Action & Adventure\" app that fits within the game genre in the App store would be a good arena to create new apps that will eventually become popular."
   ]
  },
  {
   "cell_type": "code",
   "execution_count": null,
   "id": "cf905f05",
   "metadata": {},
   "outputs": [],
   "source": []
  }
 ],
 "metadata": {
  "kernelspec": {
   "display_name": "Python 3 (ipykernel)",
   "language": "python",
   "name": "python3"
  },
  "language_info": {
   "codemirror_mode": {
    "name": "ipython",
    "version": 3
   },
   "file_extension": ".py",
   "mimetype": "text/x-python",
   "name": "python",
   "nbconvert_exporter": "python",
   "pygments_lexer": "ipython3",
   "version": "3.9.12"
  }
 },
 "nbformat": 4,
 "nbformat_minor": 5
}
